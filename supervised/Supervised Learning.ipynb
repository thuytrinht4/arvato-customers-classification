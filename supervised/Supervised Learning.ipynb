{
 "cells": [
  {
   "cell_type": "markdown",
   "metadata": {},
   "source": [
    "## Part 2: Supervised Learning Model\n",
    "\n",
    "Now that you've found which parts of the population are more likely to be customers of the mail-order company, it's time to build a prediction model. Each of the rows in the \"MAILOUT\" data files represents an individual that was targeted for a mailout campaign. Ideally, we should be able to use the demographic information from each individual to decide whether or not it will be worth it to include that person in the campaign.\n",
    "\n",
    "The \"MAILOUT\" data has been split into two approximately equal parts, each with almost 43 000 data rows. In this part, you can verify your model with the \"TRAIN\" partition, which includes a column, \"RESPONSE\", that states whether or not a person became a customer of the company following the campaign. In the next part, you'll need to create predictions on the \"TEST\" partition, where the \"RESPONSE\" column has been withheld."
   ]
  },
  {
   "cell_type": "code",
   "execution_count": 1,
   "metadata": {},
   "outputs": [],
   "source": [
    "import numpy as np\n",
    "import matplotlib.pyplot as plt\n",
    "from sklearn.preprocessing import OneHotEncoder\n",
    "from sklearn.ensemble import RandomForestClassifier, AdaBoostClassifier, GradientBoostingClassifier\n",
    "from sklearn.tree import DecisionTreeClassifier\n",
    "from sklearn.model_selection import learning_curve, GridSearchCV\n",
    "from sklearn.pipeline import Pipeline\n",
    "from utils import *"
   ]
  },
  {
   "cell_type": "code",
   "execution_count": 2,
   "metadata": {},
   "outputs": [],
   "source": [
    "mailout_train = joblib.load(open('../data/mailout_train_clustered.pkl', \"rb\"))"
   ]
  },
  {
   "cell_type": "code",
   "execution_count": 3,
   "metadata": {},
   "outputs": [
    {
     "name": "stdout",
     "output_type": "stream",
     "text": [
      "(42962, 321)\n"
     ]
    },
    {
     "data": {
      "text/html": [
       "<div>\n",
       "<style scoped>\n",
       "    .dataframe tbody tr th:only-of-type {\n",
       "        vertical-align: middle;\n",
       "    }\n",
       "\n",
       "    .dataframe tbody tr th {\n",
       "        vertical-align: top;\n",
       "    }\n",
       "\n",
       "    .dataframe thead th {\n",
       "        text-align: right;\n",
       "    }\n",
       "</style>\n",
       "<table border=\"1\" class=\"dataframe\">\n",
       "  <thead>\n",
       "    <tr style=\"text-align: right;\">\n",
       "      <th></th>\n",
       "      <th>DSL_FLAG</th>\n",
       "      <th>GREEN_AVANTGARDE</th>\n",
       "      <th>HH_DELTA_FLAG</th>\n",
       "      <th>KBA05_SEG6</th>\n",
       "      <th>KONSUMZELLE</th>\n",
       "      <th>SOHO_KZ</th>\n",
       "      <th>UNGLEICHENN_FLAG</th>\n",
       "      <th>VERS_TYP</th>\n",
       "      <th>ANREDE_KZ</th>\n",
       "      <th>OST_WEST_KZ</th>\n",
       "      <th>...</th>\n",
       "      <th>D19_KINDERARTIKEL</th>\n",
       "      <th>KBA05_KW2</th>\n",
       "      <th>KBA05_ZUL1</th>\n",
       "      <th>KBA05_ANTG2</th>\n",
       "      <th>KBA05_ANTG4</th>\n",
       "      <th>CJT_GESAMTTYP</th>\n",
       "      <th>SEMIO_FAM</th>\n",
       "      <th>VERDICHTUNGSRAUM</th>\n",
       "      <th>Cluster</th>\n",
       "      <th>RESPONSE</th>\n",
       "    </tr>\n",
       "  </thead>\n",
       "  <tbody>\n",
       "    <tr>\n",
       "      <th>0</th>\n",
       "      <td>1.0</td>\n",
       "      <td>0</td>\n",
       "      <td>0.0</td>\n",
       "      <td>0.0</td>\n",
       "      <td>1.0</td>\n",
       "      <td>0.0</td>\n",
       "      <td>0.0</td>\n",
       "      <td>2.0</td>\n",
       "      <td>2.0</td>\n",
       "      <td>W</td>\n",
       "      <td>...</td>\n",
       "      <td>0</td>\n",
       "      <td>4.0</td>\n",
       "      <td>3.0</td>\n",
       "      <td>0.0</td>\n",
       "      <td>2.0</td>\n",
       "      <td>2.0</td>\n",
       "      <td>2.0</td>\n",
       "      <td>4.0</td>\n",
       "      <td>3</td>\n",
       "      <td>0</td>\n",
       "    </tr>\n",
       "    <tr>\n",
       "      <th>1</th>\n",
       "      <td>1.0</td>\n",
       "      <td>0</td>\n",
       "      <td>0.0</td>\n",
       "      <td>0.0</td>\n",
       "      <td>0.0</td>\n",
       "      <td>0.0</td>\n",
       "      <td>0.0</td>\n",
       "      <td>1.0</td>\n",
       "      <td>2.0</td>\n",
       "      <td>W</td>\n",
       "      <td>...</td>\n",
       "      <td>0</td>\n",
       "      <td>4.0</td>\n",
       "      <td>3.0</td>\n",
       "      <td>0.0</td>\n",
       "      <td>0.0</td>\n",
       "      <td>2.0</td>\n",
       "      <td>1.0</td>\n",
       "      <td>0.0</td>\n",
       "      <td>5</td>\n",
       "      <td>0</td>\n",
       "    </tr>\n",
       "    <tr>\n",
       "      <th>2</th>\n",
       "      <td>1.0</td>\n",
       "      <td>1</td>\n",
       "      <td>NaN</td>\n",
       "      <td>0.0</td>\n",
       "      <td>0.0</td>\n",
       "      <td>0.0</td>\n",
       "      <td>0.0</td>\n",
       "      <td>1.0</td>\n",
       "      <td>1.0</td>\n",
       "      <td>O</td>\n",
       "      <td>...</td>\n",
       "      <td>0</td>\n",
       "      <td>3.0</td>\n",
       "      <td>3.0</td>\n",
       "      <td>0.0</td>\n",
       "      <td>0.0</td>\n",
       "      <td>4.0</td>\n",
       "      <td>4.0</td>\n",
       "      <td>10.0</td>\n",
       "      <td>6</td>\n",
       "      <td>0</td>\n",
       "    </tr>\n",
       "    <tr>\n",
       "      <th>3</th>\n",
       "      <td>1.0</td>\n",
       "      <td>1</td>\n",
       "      <td>0.0</td>\n",
       "      <td>0.0</td>\n",
       "      <td>0.0</td>\n",
       "      <td>0.0</td>\n",
       "      <td>0.0</td>\n",
       "      <td>2.0</td>\n",
       "      <td>2.0</td>\n",
       "      <td>W</td>\n",
       "      <td>...</td>\n",
       "      <td>0</td>\n",
       "      <td>1.0</td>\n",
       "      <td>2.0</td>\n",
       "      <td>3.0</td>\n",
       "      <td>0.0</td>\n",
       "      <td>2.0</td>\n",
       "      <td>1.0</td>\n",
       "      <td>5.0</td>\n",
       "      <td>4</td>\n",
       "      <td>0</td>\n",
       "    </tr>\n",
       "    <tr>\n",
       "      <th>4</th>\n",
       "      <td>1.0</td>\n",
       "      <td>0</td>\n",
       "      <td>0.0</td>\n",
       "      <td>0.0</td>\n",
       "      <td>0.0</td>\n",
       "      <td>0.0</td>\n",
       "      <td>0.0</td>\n",
       "      <td>1.0</td>\n",
       "      <td>1.0</td>\n",
       "      <td>W</td>\n",
       "      <td>...</td>\n",
       "      <td>0</td>\n",
       "      <td>4.0</td>\n",
       "      <td>3.0</td>\n",
       "      <td>0.0</td>\n",
       "      <td>1.0</td>\n",
       "      <td>6.0</td>\n",
       "      <td>6.0</td>\n",
       "      <td>4.0</td>\n",
       "      <td>4</td>\n",
       "      <td>0</td>\n",
       "    </tr>\n",
       "  </tbody>\n",
       "</table>\n",
       "<p>5 rows × 321 columns</p>\n",
       "</div>"
      ],
      "text/plain": [
       "   DSL_FLAG  GREEN_AVANTGARDE  HH_DELTA_FLAG  KBA05_SEG6  KONSUMZELLE  \\\n",
       "0       1.0                 0            0.0         0.0          1.0   \n",
       "1       1.0                 0            0.0         0.0          0.0   \n",
       "2       1.0                 1            NaN         0.0          0.0   \n",
       "3       1.0                 1            0.0         0.0          0.0   \n",
       "4       1.0                 0            0.0         0.0          0.0   \n",
       "\n",
       "   SOHO_KZ  UNGLEICHENN_FLAG  VERS_TYP  ANREDE_KZ OST_WEST_KZ  ...  \\\n",
       "0      0.0               0.0       2.0        2.0           W  ...   \n",
       "1      0.0               0.0       1.0        2.0           W  ...   \n",
       "2      0.0               0.0       1.0        1.0           O  ...   \n",
       "3      0.0               0.0       2.0        2.0           W  ...   \n",
       "4      0.0               0.0       1.0        1.0           W  ...   \n",
       "\n",
       "   D19_KINDERARTIKEL  KBA05_KW2  KBA05_ZUL1  KBA05_ANTG2  KBA05_ANTG4  \\\n",
       "0                  0        4.0         3.0          0.0          2.0   \n",
       "1                  0        4.0         3.0          0.0          0.0   \n",
       "2                  0        3.0         3.0          0.0          0.0   \n",
       "3                  0        1.0         2.0          3.0          0.0   \n",
       "4                  0        4.0         3.0          0.0          1.0   \n",
       "\n",
       "   CJT_GESAMTTYP  SEMIO_FAM  VERDICHTUNGSRAUM  Cluster  RESPONSE  \n",
       "0            2.0        2.0               4.0        3         0  \n",
       "1            2.0        1.0               0.0        5         0  \n",
       "2            4.0        4.0              10.0        6         0  \n",
       "3            2.0        1.0               5.0        4         0  \n",
       "4            6.0        6.0               4.0        4         0  \n",
       "\n",
       "[5 rows x 321 columns]"
      ]
     },
     "execution_count": 3,
     "metadata": {},
     "output_type": "execute_result"
    }
   ],
   "source": [
    "print(mailout_train.shape)\n",
    "mailout_train.head()"
   ]
  },
  {
   "cell_type": "markdown",
   "metadata": {},
   "source": [
    "### Build Classification Model"
   ]
  },
  {
   "cell_type": "code",
   "execution_count": 4,
   "metadata": {},
   "outputs": [
    {
     "data": {
      "text/html": [
       "<div>\n",
       "<style scoped>\n",
       "    .dataframe tbody tr th:only-of-type {\n",
       "        vertical-align: middle;\n",
       "    }\n",
       "\n",
       "    .dataframe tbody tr th {\n",
       "        vertical-align: top;\n",
       "    }\n",
       "\n",
       "    .dataframe thead th {\n",
       "        text-align: right;\n",
       "    }\n",
       "</style>\n",
       "<table border=\"1\" class=\"dataframe\">\n",
       "  <thead>\n",
       "    <tr style=\"text-align: right;\">\n",
       "      <th></th>\n",
       "      <th>Cluster_0</th>\n",
       "      <th>Cluster_1</th>\n",
       "      <th>Cluster_2</th>\n",
       "      <th>Cluster_3</th>\n",
       "      <th>Cluster_4</th>\n",
       "      <th>Cluster_5</th>\n",
       "      <th>Cluster_6</th>\n",
       "      <th>Cluster_7</th>\n",
       "      <th>Cluster_8</th>\n",
       "      <th>Cluster_9</th>\n",
       "    </tr>\n",
       "  </thead>\n",
       "  <tbody>\n",
       "    <tr>\n",
       "      <th>0</th>\n",
       "      <td>0.0</td>\n",
       "      <td>0.0</td>\n",
       "      <td>0.0</td>\n",
       "      <td>1.0</td>\n",
       "      <td>0.0</td>\n",
       "      <td>0.0</td>\n",
       "      <td>0.0</td>\n",
       "      <td>0.0</td>\n",
       "      <td>0.0</td>\n",
       "      <td>0.0</td>\n",
       "    </tr>\n",
       "    <tr>\n",
       "      <th>1</th>\n",
       "      <td>0.0</td>\n",
       "      <td>0.0</td>\n",
       "      <td>0.0</td>\n",
       "      <td>0.0</td>\n",
       "      <td>0.0</td>\n",
       "      <td>1.0</td>\n",
       "      <td>0.0</td>\n",
       "      <td>0.0</td>\n",
       "      <td>0.0</td>\n",
       "      <td>0.0</td>\n",
       "    </tr>\n",
       "    <tr>\n",
       "      <th>2</th>\n",
       "      <td>0.0</td>\n",
       "      <td>0.0</td>\n",
       "      <td>0.0</td>\n",
       "      <td>0.0</td>\n",
       "      <td>0.0</td>\n",
       "      <td>0.0</td>\n",
       "      <td>1.0</td>\n",
       "      <td>0.0</td>\n",
       "      <td>0.0</td>\n",
       "      <td>0.0</td>\n",
       "    </tr>\n",
       "    <tr>\n",
       "      <th>3</th>\n",
       "      <td>0.0</td>\n",
       "      <td>0.0</td>\n",
       "      <td>0.0</td>\n",
       "      <td>0.0</td>\n",
       "      <td>1.0</td>\n",
       "      <td>0.0</td>\n",
       "      <td>0.0</td>\n",
       "      <td>0.0</td>\n",
       "      <td>0.0</td>\n",
       "      <td>0.0</td>\n",
       "    </tr>\n",
       "    <tr>\n",
       "      <th>4</th>\n",
       "      <td>0.0</td>\n",
       "      <td>0.0</td>\n",
       "      <td>0.0</td>\n",
       "      <td>0.0</td>\n",
       "      <td>1.0</td>\n",
       "      <td>0.0</td>\n",
       "      <td>0.0</td>\n",
       "      <td>0.0</td>\n",
       "      <td>0.0</td>\n",
       "      <td>0.0</td>\n",
       "    </tr>\n",
       "  </tbody>\n",
       "</table>\n",
       "</div>"
      ],
      "text/plain": [
       "   Cluster_0  Cluster_1  Cluster_2  Cluster_3  Cluster_4  Cluster_5  \\\n",
       "0        0.0        0.0        0.0        1.0        0.0        0.0   \n",
       "1        0.0        0.0        0.0        0.0        0.0        1.0   \n",
       "2        0.0        0.0        0.0        0.0        0.0        0.0   \n",
       "3        0.0        0.0        0.0        0.0        1.0        0.0   \n",
       "4        0.0        0.0        0.0        0.0        1.0        0.0   \n",
       "\n",
       "   Cluster_6  Cluster_7  Cluster_8  Cluster_9  \n",
       "0        0.0        0.0        0.0        0.0  \n",
       "1        0.0        0.0        0.0        0.0  \n",
       "2        1.0        0.0        0.0        0.0  \n",
       "3        0.0        0.0        0.0        0.0  \n",
       "4        0.0        0.0        0.0        0.0  "
      ]
     },
     "execution_count": 4,
     "metadata": {},
     "output_type": "execute_result"
    }
   ],
   "source": [
    "# Onehot encode Cluster column\n",
    "X_clustered = mailout_train[['Cluster']]\n",
    "enc = OneHotEncoder(handle_unknown='ignore')\n",
    "enc.fit(X_clustered)\n",
    "X_clustered_encoded = pd.DataFrame(enc.transform(X_clustered).toarray(), columns=list(enc.get_feature_names_out()))\n",
    "X_clustered_encoded.head()"
   ]
  },
  {
   "cell_type": "code",
   "execution_count": 5,
   "metadata": {},
   "outputs": [],
   "source": [
    "mailout_train.drop(columns=['Cluster'], inplace=True)\n",
    "mailout_train = mailout_train.join(X_clustered_encoded)"
   ]
  },
  {
   "cell_type": "code",
   "execution_count": 6,
   "metadata": {},
   "outputs": [
    {
     "name": "stdout",
     "output_type": "stream",
     "text": [
      "(42962, 330)\n"
     ]
    },
    {
     "data": {
      "text/html": [
       "<div>\n",
       "<style scoped>\n",
       "    .dataframe tbody tr th:only-of-type {\n",
       "        vertical-align: middle;\n",
       "    }\n",
       "\n",
       "    .dataframe tbody tr th {\n",
       "        vertical-align: top;\n",
       "    }\n",
       "\n",
       "    .dataframe thead th {\n",
       "        text-align: right;\n",
       "    }\n",
       "</style>\n",
       "<table border=\"1\" class=\"dataframe\">\n",
       "  <thead>\n",
       "    <tr style=\"text-align: right;\">\n",
       "      <th></th>\n",
       "      <th>DSL_FLAG</th>\n",
       "      <th>GREEN_AVANTGARDE</th>\n",
       "      <th>HH_DELTA_FLAG</th>\n",
       "      <th>KBA05_SEG6</th>\n",
       "      <th>KONSUMZELLE</th>\n",
       "      <th>SOHO_KZ</th>\n",
       "      <th>UNGLEICHENN_FLAG</th>\n",
       "      <th>VERS_TYP</th>\n",
       "      <th>ANREDE_KZ</th>\n",
       "      <th>OST_WEST_KZ</th>\n",
       "      <th>...</th>\n",
       "      <th>Cluster_0</th>\n",
       "      <th>Cluster_1</th>\n",
       "      <th>Cluster_2</th>\n",
       "      <th>Cluster_3</th>\n",
       "      <th>Cluster_4</th>\n",
       "      <th>Cluster_5</th>\n",
       "      <th>Cluster_6</th>\n",
       "      <th>Cluster_7</th>\n",
       "      <th>Cluster_8</th>\n",
       "      <th>Cluster_9</th>\n",
       "    </tr>\n",
       "  </thead>\n",
       "  <tbody>\n",
       "    <tr>\n",
       "      <th>0</th>\n",
       "      <td>1.0</td>\n",
       "      <td>0</td>\n",
       "      <td>0.0</td>\n",
       "      <td>0.0</td>\n",
       "      <td>1.0</td>\n",
       "      <td>0.0</td>\n",
       "      <td>0.0</td>\n",
       "      <td>2.0</td>\n",
       "      <td>2.0</td>\n",
       "      <td>W</td>\n",
       "      <td>...</td>\n",
       "      <td>0.0</td>\n",
       "      <td>0.0</td>\n",
       "      <td>0.0</td>\n",
       "      <td>1.0</td>\n",
       "      <td>0.0</td>\n",
       "      <td>0.0</td>\n",
       "      <td>0.0</td>\n",
       "      <td>0.0</td>\n",
       "      <td>0.0</td>\n",
       "      <td>0.0</td>\n",
       "    </tr>\n",
       "    <tr>\n",
       "      <th>1</th>\n",
       "      <td>1.0</td>\n",
       "      <td>0</td>\n",
       "      <td>0.0</td>\n",
       "      <td>0.0</td>\n",
       "      <td>0.0</td>\n",
       "      <td>0.0</td>\n",
       "      <td>0.0</td>\n",
       "      <td>1.0</td>\n",
       "      <td>2.0</td>\n",
       "      <td>W</td>\n",
       "      <td>...</td>\n",
       "      <td>0.0</td>\n",
       "      <td>0.0</td>\n",
       "      <td>0.0</td>\n",
       "      <td>0.0</td>\n",
       "      <td>0.0</td>\n",
       "      <td>1.0</td>\n",
       "      <td>0.0</td>\n",
       "      <td>0.0</td>\n",
       "      <td>0.0</td>\n",
       "      <td>0.0</td>\n",
       "    </tr>\n",
       "    <tr>\n",
       "      <th>2</th>\n",
       "      <td>1.0</td>\n",
       "      <td>1</td>\n",
       "      <td>NaN</td>\n",
       "      <td>0.0</td>\n",
       "      <td>0.0</td>\n",
       "      <td>0.0</td>\n",
       "      <td>0.0</td>\n",
       "      <td>1.0</td>\n",
       "      <td>1.0</td>\n",
       "      <td>O</td>\n",
       "      <td>...</td>\n",
       "      <td>0.0</td>\n",
       "      <td>0.0</td>\n",
       "      <td>0.0</td>\n",
       "      <td>0.0</td>\n",
       "      <td>0.0</td>\n",
       "      <td>0.0</td>\n",
       "      <td>1.0</td>\n",
       "      <td>0.0</td>\n",
       "      <td>0.0</td>\n",
       "      <td>0.0</td>\n",
       "    </tr>\n",
       "    <tr>\n",
       "      <th>3</th>\n",
       "      <td>1.0</td>\n",
       "      <td>1</td>\n",
       "      <td>0.0</td>\n",
       "      <td>0.0</td>\n",
       "      <td>0.0</td>\n",
       "      <td>0.0</td>\n",
       "      <td>0.0</td>\n",
       "      <td>2.0</td>\n",
       "      <td>2.0</td>\n",
       "      <td>W</td>\n",
       "      <td>...</td>\n",
       "      <td>0.0</td>\n",
       "      <td>0.0</td>\n",
       "      <td>0.0</td>\n",
       "      <td>0.0</td>\n",
       "      <td>1.0</td>\n",
       "      <td>0.0</td>\n",
       "      <td>0.0</td>\n",
       "      <td>0.0</td>\n",
       "      <td>0.0</td>\n",
       "      <td>0.0</td>\n",
       "    </tr>\n",
       "    <tr>\n",
       "      <th>4</th>\n",
       "      <td>1.0</td>\n",
       "      <td>0</td>\n",
       "      <td>0.0</td>\n",
       "      <td>0.0</td>\n",
       "      <td>0.0</td>\n",
       "      <td>0.0</td>\n",
       "      <td>0.0</td>\n",
       "      <td>1.0</td>\n",
       "      <td>1.0</td>\n",
       "      <td>W</td>\n",
       "      <td>...</td>\n",
       "      <td>0.0</td>\n",
       "      <td>0.0</td>\n",
       "      <td>0.0</td>\n",
       "      <td>0.0</td>\n",
       "      <td>1.0</td>\n",
       "      <td>0.0</td>\n",
       "      <td>0.0</td>\n",
       "      <td>0.0</td>\n",
       "      <td>0.0</td>\n",
       "      <td>0.0</td>\n",
       "    </tr>\n",
       "  </tbody>\n",
       "</table>\n",
       "<p>5 rows × 330 columns</p>\n",
       "</div>"
      ],
      "text/plain": [
       "   DSL_FLAG  GREEN_AVANTGARDE  HH_DELTA_FLAG  KBA05_SEG6  KONSUMZELLE  \\\n",
       "0       1.0                 0            0.0         0.0          1.0   \n",
       "1       1.0                 0            0.0         0.0          0.0   \n",
       "2       1.0                 1            NaN         0.0          0.0   \n",
       "3       1.0                 1            0.0         0.0          0.0   \n",
       "4       1.0                 0            0.0         0.0          0.0   \n",
       "\n",
       "   SOHO_KZ  UNGLEICHENN_FLAG  VERS_TYP  ANREDE_KZ OST_WEST_KZ  ...  Cluster_0  \\\n",
       "0      0.0               0.0       2.0        2.0           W  ...        0.0   \n",
       "1      0.0               0.0       1.0        2.0           W  ...        0.0   \n",
       "2      0.0               0.0       1.0        1.0           O  ...        0.0   \n",
       "3      0.0               0.0       2.0        2.0           W  ...        0.0   \n",
       "4      0.0               0.0       1.0        1.0           W  ...        0.0   \n",
       "\n",
       "   Cluster_1  Cluster_2  Cluster_3  Cluster_4  Cluster_5  Cluster_6  \\\n",
       "0        0.0        0.0        1.0        0.0        0.0        0.0   \n",
       "1        0.0        0.0        0.0        0.0        1.0        0.0   \n",
       "2        0.0        0.0        0.0        0.0        0.0        1.0   \n",
       "3        0.0        0.0        0.0        1.0        0.0        0.0   \n",
       "4        0.0        0.0        0.0        1.0        0.0        0.0   \n",
       "\n",
       "   Cluster_7  Cluster_8  Cluster_9  \n",
       "0        0.0        0.0        0.0  \n",
       "1        0.0        0.0        0.0  \n",
       "2        0.0        0.0        0.0  \n",
       "3        0.0        0.0        0.0  \n",
       "4        0.0        0.0        0.0  \n",
       "\n",
       "[5 rows x 330 columns]"
      ]
     },
     "execution_count": 6,
     "metadata": {},
     "output_type": "execute_result"
    }
   ],
   "source": [
    "print(mailout_train.shape)\n",
    "mailout_train.head()"
   ]
  },
  {
   "cell_type": "code",
   "execution_count": 7,
   "metadata": {},
   "outputs": [],
   "source": [
    "def randomize(df):\n",
    "    \"\"\"\n",
    "    Returns randomized dataframes/series X and y.\n",
    "\n",
    "    Input: df DataFrame\n",
    "    Output: randomized dataframes/series X and y\n",
    "    \"\"\"\n",
    "\n",
    "    df_randomized = df.sample(frac=1)\n",
    "    y_rand = df_randomized['RESPONSE']\n",
    "    X_rand = df_randomized.drop(['RESPONSE'], axis=1)\n",
    "    return X_rand, y_rand"
   ]
  },
  {
   "cell_type": "code",
   "execution_count": 8,
   "metadata": {},
   "outputs": [],
   "source": [
    "def draw_learning_curves(X, y, estimator, num_trainings):\n",
    "    \"\"\"\n",
    "    Draw learning curve that shows the validation and training auc_score of an estimator\n",
    "    for varying numbers of training samples.\n",
    "\n",
    "    Input:\n",
    "        X: array like sample\n",
    "        y: array like target relative to X2 sample\n",
    "        estimator: object type that implements the “fit” and “predict” methods\n",
    "        num_trainings (int): number of training samples to plot\n",
    "\n",
    "    Output:\n",
    "        None\n",
    "    \"\"\"\n",
    "\n",
    "    train_sizes, train_scores, test_scores = learning_curve(\n",
    "        estimator, X, y, scoring='roc_auc', train_sizes=np.linspace(.1, 1.0, num_trainings))\n",
    "\n",
    "    train_scores_mean = np.mean(train_scores, axis=1)\n",
    "    test_scores_mean = np.mean(test_scores, axis=1)\n",
    "    print(\"AUC train score = {}\".format(train_scores_mean[-1].round(2)))\n",
    "    print(\"AUC validation score = {}\".format(test_scores_mean[-1].round(2)))\n",
    "    plt.grid()\n",
    "\n",
    "    plt.title(\"Learning Curves\")\n",
    "    plt.xlabel(\"% of training set\")\n",
    "    plt.ylabel(\"Score\")\n",
    "\n",
    "    plt.plot(np.linspace(.1, 1.0, num_trainings) * 100, train_scores_mean, 'o-', color=\"g\",\n",
    "             label=\"Training score\")\n",
    "    plt.plot(np.linspace(.1, 1.0, num_trainings) * 100, test_scores_mean, 'o-', color=\"y\",\n",
    "             label=\"Cross-validation score\")\n",
    "\n",
    "    plt.yticks(np.arange(0.45, 1.02, 0.05))\n",
    "    plt.xticks(np.arange(0., 100.05, 10))\n",
    "    plt.legend(loc=\"best\")\n",
    "    print(\"\")\n",
    "    plt.show()"
   ]
  },
  {
   "cell_type": "code",
   "execution_count": 9,
   "metadata": {},
   "outputs": [],
   "source": [
    "models = {'RandomForestClassifier': RandomForestClassifier(),\n",
    "          'AdaBoostClassifier': AdaBoostClassifier(),\n",
    "          'GradientBoostingClassifier': GradientBoostingClassifier()\n",
    "          }"
   ]
  },
  {
   "cell_type": "code",
   "execution_count": 52,
   "metadata": {},
   "outputs": [
    {
     "name": "stdout",
     "output_type": "stream",
     "text": [
      "RandomForestClassifier\n",
      "AUC train score = 0.97\n",
      "AUC validation score = 0.59\n",
      "\n"
     ]
    },
    {
     "data": {
      "image/png": "[encoded data removed]",
      "text/plain": [
       "<Figure size 432x288 with 1 Axes>"
      ]
     },
     "metadata": {
      "needs_background": "light"
     },
     "output_type": "display_data"
    },
    {
     "name": "stdout",
     "output_type": "stream",
     "text": [
      "AdaBoostClassifier\n",
      "AUC train score = 0.83\n",
      "AUC validation score = 0.74\n",
      "\n"
     ]
    },
    {
     "data": {
      "image/png": "[encoded data removed]",
      "text/plain": [
       "<Figure size 432x288 with 1 Axes>"
      ]
     },
     "metadata": {
      "needs_background": "light"
     },
     "output_type": "display_data"
    },
    {
     "name": "stdout",
     "output_type": "stream",
     "text": [
      "GradientBoostingClassifier\n",
      "AUC train score = 0.91\n",
      "AUC validation score = 0.75\n",
      "\n"
     ]
    },
    {
     "data": {
      "image/png": "[encoded data removed]",
      "text/plain": [
       "<Figure size 432x288 with 1 Axes>"
      ]
     },
     "metadata": {
      "needs_background": "light"
     },
     "output_type": "display_data"
    }
   ],
   "source": [
    "for model_key in models.keys():\n",
    "    print(model_key)\n",
    "    ml_pipeline = Pipeline([\n",
    "        ('model', models[model_key])\n",
    "    ])\n",
    "    X, y = randomize(mailout_train)\n",
    "    draw_learning_curves(X, y, ml_pipeline, 10)"
   ]
  },
  {
   "cell_type": "code",
   "execution_count": 202,
   "metadata": {},
   "outputs": [
    {
     "data": {
      "text/plain": [
       "AdaBoostClassifier(random_state=42)"
      ]
     },
     "execution_count": 202,
     "metadata": {},
     "output_type": "execute_result"
    }
   ],
   "source": [
    "X, y = randomize(mailout_train)\n",
    "ada_clf = AdaBoostClassifier(n_estimators=100, random_state=0)\n",
    "ada_clf.fit(X, y)"
   ]
  },
  {
   "cell_type": "code",
   "execution_count": null,
   "metadata": {},
   "outputs": [],
   "source": []
  },
  {
   "cell_type": "code",
   "execution_count": 220,
   "metadata": {},
   "outputs": [
    {
     "data": {
      "text/plain": [
       "GradientBoostingClassifier(random_state=0)"
      ]
     },
     "execution_count": 220,
     "metadata": {},
     "output_type": "execute_result"
    }
   ],
   "source": [
    "X, y = randomize(X_clustered_encoded.join(mailout_train[['RESPONSE']]))\n",
    "gbc_clf = GradientBoostingClassifier(n_estimators=100, random_state=0)\n",
    "gbc_clf.fit(X, y)"
   ]
  },
  {
   "cell_type": "code",
   "execution_count": 74,
   "metadata": {},
   "outputs": [
    {
     "name": "stdout",
     "output_type": "stream",
     "text": [
      "Fitting 5 folds for each of 8 candidates, totalling 40 fits\n",
      "[CV 1/5; 1/8] START gbc__learning_rate=0.1, gbc__max_depth=3, gbc__min_samples_split=2, gbc__n_estimators=100\n",
      "[CV 1/5; 1/8] END gbc__learning_rate=0.1, gbc__max_depth=3, gbc__min_samples_split=2, gbc__n_estimators=100;, score=0.764 total time=  57.7s\n",
      "[CV 2/5; 1/8] START gbc__learning_rate=0.1, gbc__max_depth=3, gbc__min_samples_split=2, gbc__n_estimators=100\n",
      "[CV 2/5; 1/8] END gbc__learning_rate=0.1, gbc__max_depth=3, gbc__min_samples_split=2, gbc__n_estimators=100;, score=0.746 total time=  58.0s\n",
      "[CV 3/5; 1/8] START gbc__learning_rate=0.1, gbc__max_depth=3, gbc__min_samples_split=2, gbc__n_estimators=100\n",
      "[CV 3/5; 1/8] END gbc__learning_rate=0.1, gbc__max_depth=3, gbc__min_samples_split=2, gbc__n_estimators=100;, score=0.749 total time=  57.4s\n",
      "[CV 4/5; 1/8] START gbc__learning_rate=0.1, gbc__max_depth=3, gbc__min_samples_split=2, gbc__n_estimators=100\n",
      "[CV 4/5; 1/8] END gbc__learning_rate=0.1, gbc__max_depth=3, gbc__min_samples_split=2, gbc__n_estimators=100;, score=0.792 total time=  57.7s\n",
      "[CV 5/5; 1/8] START gbc__learning_rate=0.1, gbc__max_depth=3, gbc__min_samples_split=2, gbc__n_estimators=100\n",
      "[CV 5/5; 1/8] END gbc__learning_rate=0.1, gbc__max_depth=3, gbc__min_samples_split=2, gbc__n_estimators=100;, score=0.752 total time=  57.7s\n",
      "[CV 1/5; 2/8] START gbc__learning_rate=0.1, gbc__max_depth=3, gbc__min_samples_split=4, gbc__n_estimators=100\n",
      "[CV 1/5; 2/8] END gbc__learning_rate=0.1, gbc__max_depth=3, gbc__min_samples_split=4, gbc__n_estimators=100;, score=0.752 total time=  56.5s\n",
      "[CV 2/5; 2/8] START gbc__learning_rate=0.1, gbc__max_depth=3, gbc__min_samples_split=4, gbc__n_estimators=100\n",
      "[CV 2/5; 2/8] END gbc__learning_rate=0.1, gbc__max_depth=3, gbc__min_samples_split=4, gbc__n_estimators=100;, score=0.742 total time=  57.2s\n",
      "[CV 3/5; 2/8] START gbc__learning_rate=0.1, gbc__max_depth=3, gbc__min_samples_split=4, gbc__n_estimators=100\n",
      "[CV 3/5; 2/8] END gbc__learning_rate=0.1, gbc__max_depth=3, gbc__min_samples_split=4, gbc__n_estimators=100;, score=0.742 total time=  57.6s\n",
      "[CV 4/5; 2/8] START gbc__learning_rate=0.1, gbc__max_depth=3, gbc__min_samples_split=4, gbc__n_estimators=100\n",
      "[CV 4/5; 2/8] END gbc__learning_rate=0.1, gbc__max_depth=3, gbc__min_samples_split=4, gbc__n_estimators=100;, score=0.786 total time=  57.5s\n",
      "[CV 5/5; 2/8] START gbc__learning_rate=0.1, gbc__max_depth=3, gbc__min_samples_split=4, gbc__n_estimators=100\n",
      "[CV 5/5; 2/8] END gbc__learning_rate=0.1, gbc__max_depth=3, gbc__min_samples_split=4, gbc__n_estimators=100;, score=0.749 total time=  58.1s\n",
      "[CV 1/5; 3/8] START gbc__learning_rate=0.1, gbc__max_depth=5, gbc__min_samples_split=2, gbc__n_estimators=100\n",
      "[CV 1/5; 3/8] END gbc__learning_rate=0.1, gbc__max_depth=5, gbc__min_samples_split=2, gbc__n_estimators=100;, score=0.743 total time= 1.7min\n",
      "[CV 2/5; 3/8] START gbc__learning_rate=0.1, gbc__max_depth=5, gbc__min_samples_split=2, gbc__n_estimators=100\n",
      "[CV 2/5; 3/8] END gbc__learning_rate=0.1, gbc__max_depth=5, gbc__min_samples_split=2, gbc__n_estimators=100;, score=0.725 total time= 1.7min\n",
      "[CV 3/5; 3/8] START gbc__learning_rate=0.1, gbc__max_depth=5, gbc__min_samples_split=2, gbc__n_estimators=100\n",
      "[CV 3/5; 3/8] END gbc__learning_rate=0.1, gbc__max_depth=5, gbc__min_samples_split=2, gbc__n_estimators=100;, score=0.720 total time= 1.6min\n",
      "[CV 4/5; 3/8] START gbc__learning_rate=0.1, gbc__max_depth=5, gbc__min_samples_split=2, gbc__n_estimators=100\n",
      "[CV 4/5; 3/8] END gbc__learning_rate=0.1, gbc__max_depth=5, gbc__min_samples_split=2, gbc__n_estimators=100;, score=0.761 total time= 1.7min\n",
      "[CV 5/5; 3/8] START gbc__learning_rate=0.1, gbc__max_depth=5, gbc__min_samples_split=2, gbc__n_estimators=100\n",
      "[CV 5/5; 3/8] END gbc__learning_rate=0.1, gbc__max_depth=5, gbc__min_samples_split=2, gbc__n_estimators=100;, score=0.740 total time= 1.7min\n",
      "[CV 1/5; 4/8] START gbc__learning_rate=0.1, gbc__max_depth=5, gbc__min_samples_split=4, gbc__n_estimators=100\n",
      "[CV 1/5; 4/8] END gbc__learning_rate=0.1, gbc__max_depth=5, gbc__min_samples_split=4, gbc__n_estimators=100;, score=0.743 total time= 1.6min\n",
      "[CV 2/5; 4/8] START gbc__learning_rate=0.1, gbc__max_depth=5, gbc__min_samples_split=4, gbc__n_estimators=100\n",
      "[CV 2/5; 4/8] END gbc__learning_rate=0.1, gbc__max_depth=5, gbc__min_samples_split=4, gbc__n_estimators=100;, score=0.746 total time= 1.6min\n",
      "[CV 3/5; 4/8] START gbc__learning_rate=0.1, gbc__max_depth=5, gbc__min_samples_split=4, gbc__n_estimators=100\n",
      "[CV 3/5; 4/8] END gbc__learning_rate=0.1, gbc__max_depth=5, gbc__min_samples_split=4, gbc__n_estimators=100;, score=0.739 total time= 1.7min\n",
      "[CV 4/5; 4/8] START gbc__learning_rate=0.1, gbc__max_depth=5, gbc__min_samples_split=4, gbc__n_estimators=100\n",
      "[CV 4/5; 4/8] END gbc__learning_rate=0.1, gbc__max_depth=5, gbc__min_samples_split=4, gbc__n_estimators=100;, score=0.761 total time= 1.6min\n",
      "[CV 5/5; 4/8] START gbc__learning_rate=0.1, gbc__max_depth=5, gbc__min_samples_split=4, gbc__n_estimators=100\n",
      "[CV 5/5; 4/8] END gbc__learning_rate=0.1, gbc__max_depth=5, gbc__min_samples_split=4, gbc__n_estimators=100;, score=0.751 total time= 1.7min\n",
      "[CV 1/5; 5/8] START gbc__learning_rate=0.2, gbc__max_depth=3, gbc__min_samples_split=2, gbc__n_estimators=100\n",
      "[CV 1/5; 5/8] END gbc__learning_rate=0.2, gbc__max_depth=3, gbc__min_samples_split=2, gbc__n_estimators=100;, score=0.740 total time=  58.1s\n",
      "[CV 2/5; 5/8] START gbc__learning_rate=0.2, gbc__max_depth=3, gbc__min_samples_split=2, gbc__n_estimators=100\n",
      "[CV 2/5; 5/8] END gbc__learning_rate=0.2, gbc__max_depth=3, gbc__min_samples_split=2, gbc__n_estimators=100;, score=0.728 total time=  57.5s\n",
      "[CV 3/5; 5/8] START gbc__learning_rate=0.2, gbc__max_depth=3, gbc__min_samples_split=2, gbc__n_estimators=100\n",
      "[CV 3/5; 5/8] END gbc__learning_rate=0.2, gbc__max_depth=3, gbc__min_samples_split=2, gbc__n_estimators=100;, score=0.713 total time=  56.9s\n",
      "[CV 4/5; 5/8] START gbc__learning_rate=0.2, gbc__max_depth=3, gbc__min_samples_split=2, gbc__n_estimators=100\n",
      "[CV 4/5; 5/8] END gbc__learning_rate=0.2, gbc__max_depth=3, gbc__min_samples_split=2, gbc__n_estimators=100;, score=0.783 total time=  56.4s\n",
      "[CV 5/5; 5/8] START gbc__learning_rate=0.2, gbc__max_depth=3, gbc__min_samples_split=2, gbc__n_estimators=100\n",
      "[CV 5/5; 5/8] END gbc__learning_rate=0.2, gbc__max_depth=3, gbc__min_samples_split=2, gbc__n_estimators=100;, score=0.729 total time=  57.7s\n",
      "[CV 1/5; 6/8] START gbc__learning_rate=0.2, gbc__max_depth=3, gbc__min_samples_split=4, gbc__n_estimators=100\n",
      "[CV 1/5; 6/8] END gbc__learning_rate=0.2, gbc__max_depth=3, gbc__min_samples_split=4, gbc__n_estimators=100;, score=0.740 total time=  57.5s\n",
      "[CV 2/5; 6/8] START gbc__learning_rate=0.2, gbc__max_depth=3, gbc__min_samples_split=4, gbc__n_estimators=100\n",
      "[CV 2/5; 6/8] END gbc__learning_rate=0.2, gbc__max_depth=3, gbc__min_samples_split=4, gbc__n_estimators=100;, score=0.738 total time=  57.0s\n",
      "[CV 3/5; 6/8] START gbc__learning_rate=0.2, gbc__max_depth=3, gbc__min_samples_split=4, gbc__n_estimators=100\n",
      "[CV 3/5; 6/8] END gbc__learning_rate=0.2, gbc__max_depth=3, gbc__min_samples_split=4, gbc__n_estimators=100;, score=0.720 total time=  56.3s\n",
      "[CV 4/5; 6/8] START gbc__learning_rate=0.2, gbc__max_depth=3, gbc__min_samples_split=4, gbc__n_estimators=100\n",
      "[CV 4/5; 6/8] END gbc__learning_rate=0.2, gbc__max_depth=3, gbc__min_samples_split=4, gbc__n_estimators=100;, score=0.771 total time=  56.1s\n",
      "[CV 5/5; 6/8] START gbc__learning_rate=0.2, gbc__max_depth=3, gbc__min_samples_split=4, gbc__n_estimators=100\n",
      "[CV 5/5; 6/8] END gbc__learning_rate=0.2, gbc__max_depth=3, gbc__min_samples_split=4, gbc__n_estimators=100;, score=0.744 total time=95.6min\n",
      "[CV 1/5; 7/8] START gbc__learning_rate=0.2, gbc__max_depth=5, gbc__min_samples_split=2, gbc__n_estimators=100\n",
      "[CV 1/5; 7/8] END gbc__learning_rate=0.2, gbc__max_depth=5, gbc__min_samples_split=2, gbc__n_estimators=100;, score=0.687 total time= 1.7min\n",
      "[CV 2/5; 7/8] START gbc__learning_rate=0.2, gbc__max_depth=5, gbc__min_samples_split=2, gbc__n_estimators=100\n",
      "[CV 2/5; 7/8] END gbc__learning_rate=0.2, gbc__max_depth=5, gbc__min_samples_split=2, gbc__n_estimators=100;, score=0.697 total time= 1.6min\n",
      "[CV 3/5; 7/8] START gbc__learning_rate=0.2, gbc__max_depth=5, gbc__min_samples_split=2, gbc__n_estimators=100\n",
      "[CV 3/5; 7/8] END gbc__learning_rate=0.2, gbc__max_depth=5, gbc__min_samples_split=2, gbc__n_estimators=100;, score=0.685 total time= 1.6min\n",
      "[CV 4/5; 7/8] START gbc__learning_rate=0.2, gbc__max_depth=5, gbc__min_samples_split=2, gbc__n_estimators=100\n",
      "[CV 4/5; 7/8] END gbc__learning_rate=0.2, gbc__max_depth=5, gbc__min_samples_split=2, gbc__n_estimators=100;, score=0.719 total time= 1.6min\n",
      "[CV 5/5; 7/8] START gbc__learning_rate=0.2, gbc__max_depth=5, gbc__min_samples_split=2, gbc__n_estimators=100\n",
      "[CV 5/5; 7/8] END gbc__learning_rate=0.2, gbc__max_depth=5, gbc__min_samples_split=2, gbc__n_estimators=100;, score=0.728 total time= 1.6min\n",
      "[CV 1/5; 8/8] START gbc__learning_rate=0.2, gbc__max_depth=5, gbc__min_samples_split=4, gbc__n_estimators=100\n",
      "[CV 1/5; 8/8] END gbc__learning_rate=0.2, gbc__max_depth=5, gbc__min_samples_split=4, gbc__n_estimators=100;, score=0.679 total time= 1.7min\n",
      "[CV 2/5; 8/8] START gbc__learning_rate=0.2, gbc__max_depth=5, gbc__min_samples_split=4, gbc__n_estimators=100\n",
      "[CV 2/5; 8/8] END gbc__learning_rate=0.2, gbc__max_depth=5, gbc__min_samples_split=4, gbc__n_estimators=100;, score=0.683 total time= 1.6min\n",
      "[CV 3/5; 8/8] START gbc__learning_rate=0.2, gbc__max_depth=5, gbc__min_samples_split=4, gbc__n_estimators=100\n",
      "[CV 3/5; 8/8] END gbc__learning_rate=0.2, gbc__max_depth=5, gbc__min_samples_split=4, gbc__n_estimators=100;, score=0.668 total time= 1.7min\n",
      "[CV 4/5; 8/8] START gbc__learning_rate=0.2, gbc__max_depth=5, gbc__min_samples_split=4, gbc__n_estimators=100\n",
      "[CV 4/5; 8/8] END gbc__learning_rate=0.2, gbc__max_depth=5, gbc__min_samples_split=4, gbc__n_estimators=100;, score=0.723 total time= 1.6min\n",
      "[CV 5/5; 8/8] START gbc__learning_rate=0.2, gbc__max_depth=5, gbc__min_samples_split=4, gbc__n_estimators=100\n",
      "[CV 5/5; 8/8] END gbc__learning_rate=0.2, gbc__max_depth=5, gbc__min_samples_split=4, gbc__n_estimators=100;, score=0.707 total time= 1.6min\n"
     ]
    },
    {
     "data": {
      "text/plain": [
       "GridSearchCV(estimator=Pipeline(steps=[('gbc',\n",
       "                                        GradientBoostingClassifier(random_state=42))]),\n",
       "             param_grid={'gbc__learning_rate': [0.1, 0.2],\n",
       "                         'gbc__max_depth': [3, 5],\n",
       "                         'gbc__min_samples_split': [2, 4],\n",
       "                         'gbc__n_estimators': [100]},\n",
       "             scoring='roc_auc', verbose=50)"
      ]
     },
     "execution_count": 74,
     "metadata": {},
     "output_type": "execute_result"
    }
   ],
   "source": [
    "#initialize with GradientBoostingClassifier\n",
    "gbc_pipeline = Pipeline([\n",
    "    ('gbc', AdaBoostClassifier(random_state=42))\n",
    "])\n",
    "\n",
    "parameters = {'gbc__learning_rate': [0.1, 0.2], 'gbc__n_estimators': [100],\n",
    "             'gbc__max_depth': [3, 5], 'gbc__min_samples_split': [2,4]}        \n",
    "\n",
    "start_time = time.time()\n",
    "grid_obj = GridSearchCV(gbc_pipeline, parameters, scoring = 'roc_auc', verbose=50)\n",
    "\n",
    "# Fit the grid search object to the training data and find the optimal parameters\n",
    "grid_obj.fit(X, y)\n",
    "\n",
    "elapsed_time = (time.time() - start_time) / 60\n",
    "print('Elapsed computation time: {:.3f} mins'.format(elapsed_time))"
   ]
  },
  {
   "cell_type": "code",
   "execution_count": 155,
   "metadata": {},
   "outputs": [
    {
     "name": "stdout",
     "output_type": "stream",
     "text": [
      "0.7605260168365519\n",
      "Pipeline(steps=[('gbc', GradientBoostingClassifier(random_state=42))])\n"
     ]
    }
   ],
   "source": [
    "print(grid_obj.best_score_)\n",
    "print(grid_obj.best_estimator_)"
   ]
  },
  {
   "cell_type": "code",
   "execution_count": 136,
   "metadata": {},
   "outputs": [
    {
     "name": "stdout",
     "output_type": "stream",
     "text": [
      "Fitting 5 folds for each of 8 candidates, totalling 40 fits\n",
      "Elapsed computation time: 7.002 mins\n"
     ]
    }
   ],
   "source": [
    "#initialize with AdaBoostClassifier\n",
    "clf = AdaBoostClassifier(DecisionTreeClassifier())\n",
    "clf.get_params()\n",
    "\n",
    "parameters = {'learning_rate': [0.1, 0.2], 'n_estimators': [50], 'random_state': [42],\n",
    "             'base_estimator__max_depth': [1, 3], 'base_estimator__max_features': [20, None]}        \n",
    "\n",
    "start_time = time.time()\n",
    "ada_grid_obj = GridSearchCV(estimator=clf, param_grid=parameters, scoring = 'roc_auc', cv=5, n_jobs = 3, verbose=50)\n",
    "\n",
    "# Fit the grid search object to the training data and find the optimal parameters\n",
    "ada_grid_obj.fit(X, y)\n",
    "\n",
    "elapsed_time = (time.time() - start_time) / 60\n",
    "print('Elapsed computation time: {:.3f} mins'.format(elapsed_time))"
   ]
  },
  {
   "cell_type": "code",
   "execution_count": 151,
   "metadata": {},
   "outputs": [
    {
     "name": "stdout",
     "output_type": "stream",
     "text": [
      "0.7625179146185074\n",
      "AdaBoostClassifier(base_estimator=DecisionTreeClassifier(max_depth=1),\n",
      "                   learning_rate=0.1, random_state=42)\n"
     ]
    }
   ],
   "source": [
    "print(ada_grid_obj.best_score_)\n",
    "print(ada_grid_obj.best_estimator_)"
   ]
  },
  {
   "cell_type": "code",
   "execution_count": 153,
   "metadata": {},
   "outputs": [
    {
     "data": {
      "text/plain": [
       "['results/gbc_grids_obj.pkl']"
      ]
     },
     "execution_count": 153,
     "metadata": {},
     "output_type": "execute_result"
    }
   ],
   "source": [
    "# save Gridsearch object\n",
    "joblib.dump(grid_obj.best_estimator_, '../results/gbc_grids_obj.pkl')"
   ]
  },
  {
   "cell_type": "code",
   "execution_count": 152,
   "metadata": {},
   "outputs": [
    {
     "data": {
      "text/plain": [
       "['results/ada_grid_obj.pkl']"
      ]
     },
     "execution_count": 152,
     "metadata": {},
     "output_type": "execute_result"
    }
   ],
   "source": [
    "# save Gridsearch object\n",
    "joblib.dump(ada_grid_obj.best_estimator_, '../results/ada_grid_obj.pkl')"
   ]
  },
  {
   "cell_type": "markdown",
   "metadata": {},
   "source": []
  },
  {
   "cell_type": "markdown",
   "metadata": {},
   "source": [
    "## Part 3: Kaggle Competition\n",
    "\n",
    "Now that you've created a model to predict which individuals are most likely to respond to a mailout campaign, it's time to test that model in competition through Kaggle. If you click on the link [here](http://www.kaggle.com/t/21e6d45d4c574c7fa2d868f0e8c83140), you'll be taken to the competition page where, if you have a Kaggle account, you can enter.\n",
    "\n",
    "Your entry to the competition should be a CSV file with two columns. The first column should be a copy of \"LNR\", which acts as an ID number for each individual in the \"TEST\" partition. The second column, \"RESPONSE\", should be some measure of how likely each individual became a customer – this might not be a straightforward probability. As you should have found in Part 2, there is a large output class imbalance, where most individuals did not respond to the mailout. Thus, predicting individual classes and using accuracy does not seem to be an appropriate performance evaluation method. Instead, the competition will be using AUC to evaluate performance. The exact values of the \"RESPONSE\" column do not matter as much: only that the higher values try to capture as many of the actual customers as possible, early in the ROC curve sweep."
   ]
  },
  {
   "cell_type": "code",
   "execution_count": 2,
   "metadata": {},
   "outputs": [],
   "source": [
    "mailout_test = joblib.load(open('../data/mailout_test_clean.pkl', \"rb\"))"
   ]
  },
  {
   "cell_type": "code",
   "execution_count": 3,
   "metadata": {},
   "outputs": [
    {
     "name": "stdout",
     "output_type": "stream",
     "text": [
      "(42833, 320)\n"
     ]
    },
    {
     "data": {
      "text/html": [
       "<div>\n",
       "<style scoped>\n",
       "    .dataframe tbody tr th:only-of-type {\n",
       "        vertical-align: middle;\n",
       "    }\n",
       "\n",
       "    .dataframe tbody tr th {\n",
       "        vertical-align: top;\n",
       "    }\n",
       "\n",
       "    .dataframe thead th {\n",
       "        text-align: right;\n",
       "    }\n",
       "</style>\n",
       "<table border=\"1\" class=\"dataframe\">\n",
       "  <thead>\n",
       "    <tr style=\"text-align: right;\">\n",
       "      <th></th>\n",
       "      <th>LNR</th>\n",
       "      <th>DSL_FLAG</th>\n",
       "      <th>GREEN_AVANTGARDE</th>\n",
       "      <th>HH_DELTA_FLAG</th>\n",
       "      <th>KBA05_SEG6</th>\n",
       "      <th>KONSUMZELLE</th>\n",
       "      <th>SOHO_KZ</th>\n",
       "      <th>UNGLEICHENN_FLAG</th>\n",
       "      <th>VERS_TYP</th>\n",
       "      <th>ANREDE_KZ</th>\n",
       "      <th>...</th>\n",
       "      <th>KBA13_ALTERHALTER_30</th>\n",
       "      <th>KBA05_MAXVORB</th>\n",
       "      <th>D19_KINDERARTIKEL</th>\n",
       "      <th>KBA05_KW2</th>\n",
       "      <th>KBA05_ZUL1</th>\n",
       "      <th>KBA05_ANTG2</th>\n",
       "      <th>KBA05_ANTG4</th>\n",
       "      <th>CJT_GESAMTTYP</th>\n",
       "      <th>SEMIO_FAM</th>\n",
       "      <th>VERDICHTUNGSRAUM</th>\n",
       "    </tr>\n",
       "  </thead>\n",
       "  <tbody>\n",
       "    <tr>\n",
       "      <th>0</th>\n",
       "      <td>1754</td>\n",
       "      <td>1.0</td>\n",
       "      <td>1</td>\n",
       "      <td>0.0</td>\n",
       "      <td>1.0</td>\n",
       "      <td>0.0</td>\n",
       "      <td>0.0</td>\n",
       "      <td>0.0</td>\n",
       "      <td>1.0</td>\n",
       "      <td>1.0</td>\n",
       "      <td>...</td>\n",
       "      <td>3.0</td>\n",
       "      <td>1.0</td>\n",
       "      <td>0</td>\n",
       "      <td>3.0</td>\n",
       "      <td>3.0</td>\n",
       "      <td>1.0</td>\n",
       "      <td>0.0</td>\n",
       "      <td>5.0</td>\n",
       "      <td>4.0</td>\n",
       "      <td>23.0</td>\n",
       "    </tr>\n",
       "    <tr>\n",
       "      <th>1</th>\n",
       "      <td>1770</td>\n",
       "      <td>1.0</td>\n",
       "      <td>0</td>\n",
       "      <td>0.0</td>\n",
       "      <td>0.0</td>\n",
       "      <td>0.0</td>\n",
       "      <td>0.0</td>\n",
       "      <td>0.0</td>\n",
       "      <td>1.0</td>\n",
       "      <td>1.0</td>\n",
       "      <td>...</td>\n",
       "      <td>4.0</td>\n",
       "      <td>3.0</td>\n",
       "      <td>0</td>\n",
       "      <td>4.0</td>\n",
       "      <td>3.0</td>\n",
       "      <td>2.0</td>\n",
       "      <td>1.0</td>\n",
       "      <td>1.0</td>\n",
       "      <td>4.0</td>\n",
       "      <td>0.0</td>\n",
       "    </tr>\n",
       "    <tr>\n",
       "      <th>2</th>\n",
       "      <td>1465</td>\n",
       "      <td>1.0</td>\n",
       "      <td>1</td>\n",
       "      <td>1.0</td>\n",
       "      <td>0.0</td>\n",
       "      <td>1.0</td>\n",
       "      <td>0.0</td>\n",
       "      <td>1.0</td>\n",
       "      <td>1.0</td>\n",
       "      <td>2.0</td>\n",
       "      <td>...</td>\n",
       "      <td>2.0</td>\n",
       "      <td>1.0</td>\n",
       "      <td>0</td>\n",
       "      <td>4.0</td>\n",
       "      <td>1.0</td>\n",
       "      <td>3.0</td>\n",
       "      <td>0.0</td>\n",
       "      <td>2.0</td>\n",
       "      <td>1.0</td>\n",
       "      <td>15.0</td>\n",
       "    </tr>\n",
       "    <tr>\n",
       "      <th>3</th>\n",
       "      <td>1470</td>\n",
       "      <td>1.0</td>\n",
       "      <td>0</td>\n",
       "      <td>NaN</td>\n",
       "      <td>0.0</td>\n",
       "      <td>0.0</td>\n",
       "      <td>0.0</td>\n",
       "      <td>0.0</td>\n",
       "      <td>2.0</td>\n",
       "      <td>2.0</td>\n",
       "      <td>...</td>\n",
       "      <td>2.0</td>\n",
       "      <td>2.0</td>\n",
       "      <td>0</td>\n",
       "      <td>2.0</td>\n",
       "      <td>3.0</td>\n",
       "      <td>1.0</td>\n",
       "      <td>0.0</td>\n",
       "      <td>4.0</td>\n",
       "      <td>1.0</td>\n",
       "      <td>10.0</td>\n",
       "    </tr>\n",
       "    <tr>\n",
       "      <th>4</th>\n",
       "      <td>1478</td>\n",
       "      <td>1.0</td>\n",
       "      <td>0</td>\n",
       "      <td>1.0</td>\n",
       "      <td>1.0</td>\n",
       "      <td>0.0</td>\n",
       "      <td>0.0</td>\n",
       "      <td>0.0</td>\n",
       "      <td>1.0</td>\n",
       "      <td>2.0</td>\n",
       "      <td>...</td>\n",
       "      <td>3.0</td>\n",
       "      <td>3.0</td>\n",
       "      <td>5</td>\n",
       "      <td>2.0</td>\n",
       "      <td>4.0</td>\n",
       "      <td>0.0</td>\n",
       "      <td>0.0</td>\n",
       "      <td>6.0</td>\n",
       "      <td>2.0</td>\n",
       "      <td>0.0</td>\n",
       "    </tr>\n",
       "  </tbody>\n",
       "</table>\n",
       "<p>5 rows × 320 columns</p>\n",
       "</div>"
      ],
      "text/plain": [
       "    LNR  DSL_FLAG  GREEN_AVANTGARDE  HH_DELTA_FLAG  KBA05_SEG6  KONSUMZELLE  \\\n",
       "0  1754       1.0                 1            0.0         1.0          0.0   \n",
       "1  1770       1.0                 0            0.0         0.0          0.0   \n",
       "2  1465       1.0                 1            1.0         0.0          1.0   \n",
       "3  1470       1.0                 0            NaN         0.0          0.0   \n",
       "4  1478       1.0                 0            1.0         1.0          0.0   \n",
       "\n",
       "   SOHO_KZ  UNGLEICHENN_FLAG  VERS_TYP  ANREDE_KZ  ... KBA13_ALTERHALTER_30  \\\n",
       "0      0.0               0.0       1.0        1.0  ...                  3.0   \n",
       "1      0.0               0.0       1.0        1.0  ...                  4.0   \n",
       "2      0.0               1.0       1.0        2.0  ...                  2.0   \n",
       "3      0.0               0.0       2.0        2.0  ...                  2.0   \n",
       "4      0.0               0.0       1.0        2.0  ...                  3.0   \n",
       "\n",
       "   KBA05_MAXVORB  D19_KINDERARTIKEL  KBA05_KW2  KBA05_ZUL1  KBA05_ANTG2  \\\n",
       "0            1.0                  0        3.0         3.0          1.0   \n",
       "1            3.0                  0        4.0         3.0          2.0   \n",
       "2            1.0                  0        4.0         1.0          3.0   \n",
       "3            2.0                  0        2.0         3.0          1.0   \n",
       "4            3.0                  5        2.0         4.0          0.0   \n",
       "\n",
       "   KBA05_ANTG4  CJT_GESAMTTYP  SEMIO_FAM  VERDICHTUNGSRAUM  \n",
       "0          0.0            5.0        4.0              23.0  \n",
       "1          1.0            1.0        4.0               0.0  \n",
       "2          0.0            2.0        1.0              15.0  \n",
       "3          0.0            4.0        1.0              10.0  \n",
       "4          0.0            6.0        2.0               0.0  \n",
       "\n",
       "[5 rows x 320 columns]"
      ]
     },
     "execution_count": 3,
     "metadata": {},
     "output_type": "execute_result"
    }
   ],
   "source": [
    "print(mailout_test.shape)\n",
    "mailout_test.head()"
   ]
  },
  {
   "cell_type": "code",
   "execution_count": 4,
   "metadata": {},
   "outputs": [],
   "source": [
    "test_identifier = mailout_test[['LNR']]"
   ]
  },
  {
   "cell_type": "markdown",
   "metadata": {},
   "source": [
    "### Predict Customer Class"
   ]
  },
  {
   "cell_type": "code",
   "execution_count": 226,
   "metadata": {},
   "outputs": [
    {
     "name": "stderr",
     "output_type": "stream",
     "text": [
      "C:\\Users\\ADMIN\\anaconda3\\envs\\ml\\lib\\site-packages\\sklearn\\base.py:324: UserWarning: Trying to unpickle estimator SimpleImputer from version 0.24.1 when using version 1.0. This might lead to breaking code or invalid results. Use at your own risk. For more info please refer to:\n",
      "https://scikit-learn.org/stable/modules/model_persistence.html#security-maintainability-limitations\n",
      "  warnings.warn(\n",
      "C:\\Users\\ADMIN\\anaconda3\\envs\\ml\\lib\\site-packages\\sklearn\\base.py:324: UserWarning: Trying to unpickle estimator Pipeline from version 0.24.1 when using version 1.0. This might lead to breaking code or invalid results. Use at your own risk. For more info please refer to:\n",
      "https://scikit-learn.org/stable/modules/model_persistence.html#security-maintainability-limitations\n",
      "  warnings.warn(\n",
      "C:\\Users\\ADMIN\\anaconda3\\envs\\ml\\lib\\site-packages\\sklearn\\base.py:324: UserWarning: Trying to unpickle estimator OneHotEncoder from version 0.24.1 when using version 1.0. This might lead to breaking code or invalid results. Use at your own risk. For more info please refer to:\n",
      "https://scikit-learn.org/stable/modules/model_persistence.html#security-maintainability-limitations\n",
      "  warnings.warn(\n",
      "C:\\Users\\ADMIN\\anaconda3\\envs\\ml\\lib\\site-packages\\sklearn\\base.py:324: UserWarning: Trying to unpickle estimator StandardScaler from version 0.24.1 when using version 1.0. This might lead to breaking code or invalid results. Use at your own risk. For more info please refer to:\n",
      "https://scikit-learn.org/stable/modules/model_persistence.html#security-maintainability-limitations\n",
      "  warnings.warn(\n",
      "C:\\Users\\ADMIN\\anaconda3\\envs\\ml\\lib\\site-packages\\sklearn\\base.py:324: UserWarning: Trying to unpickle estimator ColumnTransformer from version 0.24.1 when using version 1.0. This might lead to breaking code or invalid results. Use at your own risk. For more info please refer to:\n",
      "https://scikit-learn.org/stable/modules/model_persistence.html#security-maintainability-limitations\n",
      "  warnings.warn(\n",
      "C:\\Users\\ADMIN\\anaconda3\\envs\\ml\\lib\\site-packages\\sklearn\\base.py:324: UserWarning: Trying to unpickle estimator PCA from version 0.24.1 when using version 1.0. This might lead to breaking code or invalid results. Use at your own risk. For more info please refer to:\n",
      "https://scikit-learn.org/stable/modules/model_persistence.html#security-maintainability-limitations\n",
      "  warnings.warn(\n",
      "C:\\Users\\ADMIN\\anaconda3\\envs\\ml\\lib\\site-packages\\sklearn\\base.py:324: UserWarning: Trying to unpickle estimator KMeans from version 0.24.1 when using version 1.0. This might lead to breaking code or invalid results. Use at your own risk. For more info please refer to:\n",
      "https://scikit-learn.org/stable/modules/model_persistence.html#security-maintainability-limitations\n",
      "  warnings.warn(\n",
      "C:\\Users\\ADMIN\\anaconda3\\envs\\ml\\lib\\site-packages\\sklearn\\base.py:434: UserWarning: X has feature names, but SimpleImputer was fitted without feature names\n",
      "  warnings.warn(\n",
      "C:\\Users\\ADMIN\\anaconda3\\envs\\ml\\lib\\site-packages\\sklearn\\base.py:434: UserWarning: X has feature names, but SimpleImputer was fitted without feature names\n",
      "  warnings.warn(\n",
      "C:\\Users\\ADMIN\\anaconda3\\envs\\ml\\lib\\site-packages\\sklearn\\base.py:434: UserWarning: X has feature names, but SimpleImputer was fitted without feature names\n",
      "  warnings.warn(\n",
      "C:\\Users\\ADMIN\\anaconda3\\envs\\ml\\lib\\site-packages\\sklearn\\utils\\deprecation.py:87: FutureWarning: Function get_feature_names is deprecated; get_feature_names is deprecated in 1.0 and will be removed in 1.2. Please use get_feature_names_out instead.\n",
      "  warnings.warn(msg, category=FutureWarning)\n"
     ]
    }
   ],
   "source": [
    "mailout_test_cluster = segment_clusters(mailout_test_clean, testset=True)"
   ]
  },
  {
   "cell_type": "code",
   "execution_count": 227,
   "metadata": {},
   "outputs": [],
   "source": [
    "# Onehot encode Cluster column\n",
    "X_clustered = mailout_test_cluster[['Cluster']]\n",
    "enc = OneHotEncoder(handle_unknown='ignore')\n",
    "enc.fit(X_clustered)\n",
    "X_clustered_encoded = pd.DataFrame(enc.transform(X_clustered).toarray(), columns=list(enc.get_feature_names_out()))"
   ]
  },
  {
   "cell_type": "code",
   "execution_count": 103,
   "metadata": {},
   "outputs": [],
   "source": [
    "mailout_test_cluster.drop(columns=['Cluster'], inplace=True)\n",
    "mailout_test_cluster = mailout_test_cluster.join(X_clustered_encoded)"
   ]
  },
  {
   "cell_type": "code",
   "execution_count": 104,
   "metadata": {},
   "outputs": [
    {
     "name": "stdout",
     "output_type": "stream",
     "text": [
      "(42833, 332)\n"
     ]
    },
    {
     "data": {
      "text/html": [
       "<div>\n",
       "<style scoped>\n",
       "    .dataframe tbody tr th:only-of-type {\n",
       "        vertical-align: middle;\n",
       "    }\n",
       "\n",
       "    .dataframe tbody tr th {\n",
       "        vertical-align: top;\n",
       "    }\n",
       "\n",
       "    .dataframe thead th {\n",
       "        text-align: right;\n",
       "    }\n",
       "</style>\n",
       "<table border=\"1\" class=\"dataframe\">\n",
       "  <thead>\n",
       "    <tr style=\"text-align: right;\">\n",
       "      <th></th>\n",
       "      <th>DSL_FLAG</th>\n",
       "      <th>GREEN_AVANTGARDE</th>\n",
       "      <th>HH_DELTA_FLAG</th>\n",
       "      <th>KBA05_SEG6</th>\n",
       "      <th>KONSUMZELLE</th>\n",
       "      <th>SOHO_KZ</th>\n",
       "      <th>UNGLEICHENN_FLAG</th>\n",
       "      <th>VERS_TYP</th>\n",
       "      <th>ANREDE_KZ</th>\n",
       "      <th>OST_WEST_KZ_O</th>\n",
       "      <th>...</th>\n",
       "      <th>Cluster_0</th>\n",
       "      <th>Cluster_1</th>\n",
       "      <th>Cluster_2</th>\n",
       "      <th>Cluster_3</th>\n",
       "      <th>Cluster_4</th>\n",
       "      <th>Cluster_5</th>\n",
       "      <th>Cluster_6</th>\n",
       "      <th>Cluster_7</th>\n",
       "      <th>Cluster_8</th>\n",
       "      <th>Cluster_9</th>\n",
       "    </tr>\n",
       "  </thead>\n",
       "  <tbody>\n",
       "    <tr>\n",
       "      <th>0</th>\n",
       "      <td>1.0</td>\n",
       "      <td>1.0</td>\n",
       "      <td>0.0</td>\n",
       "      <td>1.0</td>\n",
       "      <td>0.0</td>\n",
       "      <td>0.0</td>\n",
       "      <td>0.0</td>\n",
       "      <td>1.0</td>\n",
       "      <td>1.0</td>\n",
       "      <td>0.0</td>\n",
       "      <td>...</td>\n",
       "      <td>0.0</td>\n",
       "      <td>0.0</td>\n",
       "      <td>0.0</td>\n",
       "      <td>0.0</td>\n",
       "      <td>0.0</td>\n",
       "      <td>0.0</td>\n",
       "      <td>1.0</td>\n",
       "      <td>0.0</td>\n",
       "      <td>0.0</td>\n",
       "      <td>0.0</td>\n",
       "    </tr>\n",
       "    <tr>\n",
       "      <th>1</th>\n",
       "      <td>1.0</td>\n",
       "      <td>0.0</td>\n",
       "      <td>0.0</td>\n",
       "      <td>0.0</td>\n",
       "      <td>0.0</td>\n",
       "      <td>0.0</td>\n",
       "      <td>0.0</td>\n",
       "      <td>1.0</td>\n",
       "      <td>1.0</td>\n",
       "      <td>0.0</td>\n",
       "      <td>...</td>\n",
       "      <td>0.0</td>\n",
       "      <td>0.0</td>\n",
       "      <td>1.0</td>\n",
       "      <td>0.0</td>\n",
       "      <td>0.0</td>\n",
       "      <td>0.0</td>\n",
       "      <td>0.0</td>\n",
       "      <td>0.0</td>\n",
       "      <td>0.0</td>\n",
       "      <td>0.0</td>\n",
       "    </tr>\n",
       "    <tr>\n",
       "      <th>2</th>\n",
       "      <td>1.0</td>\n",
       "      <td>1.0</td>\n",
       "      <td>1.0</td>\n",
       "      <td>0.0</td>\n",
       "      <td>1.0</td>\n",
       "      <td>0.0</td>\n",
       "      <td>1.0</td>\n",
       "      <td>1.0</td>\n",
       "      <td>2.0</td>\n",
       "      <td>0.0</td>\n",
       "      <td>...</td>\n",
       "      <td>0.0</td>\n",
       "      <td>0.0</td>\n",
       "      <td>0.0</td>\n",
       "      <td>0.0</td>\n",
       "      <td>0.0</td>\n",
       "      <td>0.0</td>\n",
       "      <td>1.0</td>\n",
       "      <td>0.0</td>\n",
       "      <td>0.0</td>\n",
       "      <td>0.0</td>\n",
       "    </tr>\n",
       "    <tr>\n",
       "      <th>3</th>\n",
       "      <td>1.0</td>\n",
       "      <td>0.0</td>\n",
       "      <td>0.0</td>\n",
       "      <td>0.0</td>\n",
       "      <td>0.0</td>\n",
       "      <td>0.0</td>\n",
       "      <td>0.0</td>\n",
       "      <td>2.0</td>\n",
       "      <td>2.0</td>\n",
       "      <td>1.0</td>\n",
       "      <td>...</td>\n",
       "      <td>0.0</td>\n",
       "      <td>0.0</td>\n",
       "      <td>0.0</td>\n",
       "      <td>1.0</td>\n",
       "      <td>0.0</td>\n",
       "      <td>0.0</td>\n",
       "      <td>0.0</td>\n",
       "      <td>0.0</td>\n",
       "      <td>0.0</td>\n",
       "      <td>0.0</td>\n",
       "    </tr>\n",
       "    <tr>\n",
       "      <th>4</th>\n",
       "      <td>1.0</td>\n",
       "      <td>0.0</td>\n",
       "      <td>1.0</td>\n",
       "      <td>1.0</td>\n",
       "      <td>0.0</td>\n",
       "      <td>0.0</td>\n",
       "      <td>0.0</td>\n",
       "      <td>1.0</td>\n",
       "      <td>2.0</td>\n",
       "      <td>0.0</td>\n",
       "      <td>...</td>\n",
       "      <td>0.0</td>\n",
       "      <td>0.0</td>\n",
       "      <td>0.0</td>\n",
       "      <td>0.0</td>\n",
       "      <td>0.0</td>\n",
       "      <td>0.0</td>\n",
       "      <td>0.0</td>\n",
       "      <td>1.0</td>\n",
       "      <td>0.0</td>\n",
       "      <td>0.0</td>\n",
       "    </tr>\n",
       "  </tbody>\n",
       "</table>\n",
       "<p>5 rows × 332 columns</p>\n",
       "</div>"
      ],
      "text/plain": [
       "   DSL_FLAG  GREEN_AVANTGARDE  HH_DELTA_FLAG  KBA05_SEG6  KONSUMZELLE  \\\n",
       "0       1.0               1.0            0.0         1.0          0.0   \n",
       "1       1.0               0.0            0.0         0.0          0.0   \n",
       "2       1.0               1.0            1.0         0.0          1.0   \n",
       "3       1.0               0.0            0.0         0.0          0.0   \n",
       "4       1.0               0.0            1.0         1.0          0.0   \n",
       "\n",
       "   SOHO_KZ  UNGLEICHENN_FLAG  VERS_TYP  ANREDE_KZ  OST_WEST_KZ_O  ...  \\\n",
       "0      0.0               0.0       1.0        1.0            0.0  ...   \n",
       "1      0.0               0.0       1.0        1.0            0.0  ...   \n",
       "2      0.0               1.0       1.0        2.0            0.0  ...   \n",
       "3      0.0               0.0       2.0        2.0            1.0  ...   \n",
       "4      0.0               0.0       1.0        2.0            0.0  ...   \n",
       "\n",
       "   Cluster_0  Cluster_1  Cluster_2  Cluster_3  Cluster_4  Cluster_5  \\\n",
       "0        0.0        0.0        0.0        0.0        0.0        0.0   \n",
       "1        0.0        0.0        1.0        0.0        0.0        0.0   \n",
       "2        0.0        0.0        0.0        0.0        0.0        0.0   \n",
       "3        0.0        0.0        0.0        1.0        0.0        0.0   \n",
       "4        0.0        0.0        0.0        0.0        0.0        0.0   \n",
       "\n",
       "   Cluster_6  Cluster_7  Cluster_8  Cluster_9  \n",
       "0        1.0        0.0        0.0        0.0  \n",
       "1        0.0        0.0        0.0        0.0  \n",
       "2        1.0        0.0        0.0        0.0  \n",
       "3        0.0        0.0        0.0        0.0  \n",
       "4        0.0        1.0        0.0        0.0  \n",
       "\n",
       "[5 rows x 332 columns]"
      ]
     },
     "execution_count": 104,
     "metadata": {},
     "output_type": "execute_result"
    }
   ],
   "source": [
    "print(mailout_test_cluster.shape)\n",
    "mailout_test_cluster.head()"
   ]
  },
  {
   "cell_type": "code",
   "execution_count": 166,
   "metadata": {},
   "outputs": [],
   "source": [
    "# make prediction\n",
    "# load model\n",
    "# gbc_model = joblib.load('results/gbc_grids_obj.pkl')\n",
    "# ada_model = joblib.load('results/ada_grid_obj.pkl')\n",
    "ada_model = ada_grid_obj.best_estimator_"
   ]
  },
  {
   "cell_type": "code",
   "execution_count": 228,
   "metadata": {},
   "outputs": [],
   "source": [
    "# mailout_test_proba = ada_clf.predict_proba(mailout_test_cluster)\n",
    "mailout_test_proba = gbc_clf.predict_proba(X_clustered_encoded)\n",
    "# mailout_test_proba = grid_obj.predict_proba(mailout_test_cluster)"
   ]
  },
  {
   "cell_type": "code",
   "execution_count": 229,
   "metadata": {},
   "outputs": [
    {
     "data": {
      "text/plain": [
       "array([[0.98508734, 0.01491266],\n",
       "       [0.98534021, 0.01465979],\n",
       "       [0.98508734, 0.01491266],\n",
       "       ...,\n",
       "       [0.9892639 , 0.0107361 ],\n",
       "       [0.98635439, 0.01364561],\n",
       "       [0.9892639 , 0.0107361 ]])"
      ]
     },
     "execution_count": 229,
     "metadata": {},
     "output_type": "execute_result"
    }
   ],
   "source": [
    "mailout_test_proba"
   ]
  },
  {
   "cell_type": "code",
   "execution_count": 230,
   "metadata": {},
   "outputs": [],
   "source": [
    "proba_pred = pd.DataFrame(mailout_test_proba, columns=['proba_0', 'proba_1'])"
   ]
  },
  {
   "cell_type": "code",
   "execution_count": 231,
   "metadata": {},
   "outputs": [
    {
     "data": {
      "text/plain": [
       "0"
      ]
     },
     "execution_count": 231,
     "metadata": {},
     "output_type": "execute_result"
    }
   ],
   "source": [
    "proba_pred.apply(lambda x: 1 if x.proba_1>x.proba_0 else 0, axis=1).sum()"
   ]
  },
  {
   "cell_type": "code",
   "execution_count": 190,
   "metadata": {},
   "outputs": [],
   "source": [
    "# mailout_test_pred = ada_model.predict(mailout_test_cluster)\n",
    "mailout_test_pred = gbc_model.predict(mailout_test_cluster)"
   ]
  },
  {
   "cell_type": "code",
   "execution_count": 191,
   "metadata": {},
   "outputs": [
    {
     "data": {
      "text/plain": [
       "23"
      ]
     },
     "execution_count": 191,
     "metadata": {},
     "output_type": "execute_result"
    }
   ],
   "source": [
    "mailout_test_pred.sum()"
   ]
  },
  {
   "cell_type": "code",
   "execution_count": 192,
   "metadata": {},
   "outputs": [
    {
     "name": "stderr",
     "output_type": "stream",
     "text": [
      "C:\\Users\\ADMIN\\AppData\\Local\\Temp/ipykernel_9264/733918308.py:1: SettingWithCopyWarning: \n",
      "A value is trying to be set on a copy of a slice from a DataFrame.\n",
      "Try using .loc[row_indexer,col_indexer] = value instead\n",
      "\n",
      "See the caveats in the documentation: https://pandas.pydata.org/pandas-docs/stable/user_guide/indexing.html#returning-a-view-versus-a-copy\n",
      "  test_identifier['RESPONSE'] = mailout_test_pred\n"
     ]
    }
   ],
   "source": [
    "test_identifier['RESPONSE'] = mailout_test_pred"
   ]
  },
  {
   "cell_type": "code",
   "execution_count": 193,
   "metadata": {},
   "outputs": [
    {
     "data": {
      "text/plain": [
       "23"
      ]
     },
     "execution_count": 193,
     "metadata": {},
     "output_type": "execute_result"
    }
   ],
   "source": [
    "test_identifier['RESPONSE'].sum()"
   ]
  },
  {
   "cell_type": "code",
   "execution_count": 194,
   "metadata": {
    "tags": []
   },
   "outputs": [
    {
     "data": {
      "text/html": [
       "<div>\n",
       "<style scoped>\n",
       "    .dataframe tbody tr th:only-of-type {\n",
       "        vertical-align: middle;\n",
       "    }\n",
       "\n",
       "    .dataframe tbody tr th {\n",
       "        vertical-align: top;\n",
       "    }\n",
       "\n",
       "    .dataframe thead th {\n",
       "        text-align: right;\n",
       "    }\n",
       "</style>\n",
       "<table border=\"1\" class=\"dataframe\">\n",
       "  <thead>\n",
       "    <tr style=\"text-align: right;\">\n",
       "      <th></th>\n",
       "      <th>LNR</th>\n",
       "      <th>RESPONSE</th>\n",
       "    </tr>\n",
       "  </thead>\n",
       "  <tbody>\n",
       "    <tr>\n",
       "      <th>0</th>\n",
       "      <td>1754</td>\n",
       "      <td>0</td>\n",
       "    </tr>\n",
       "    <tr>\n",
       "      <th>1</th>\n",
       "      <td>1770</td>\n",
       "      <td>0</td>\n",
       "    </tr>\n",
       "    <tr>\n",
       "      <th>2</th>\n",
       "      <td>1465</td>\n",
       "      <td>0</td>\n",
       "    </tr>\n",
       "    <tr>\n",
       "      <th>3</th>\n",
       "      <td>1470</td>\n",
       "      <td>0</td>\n",
       "    </tr>\n",
       "    <tr>\n",
       "      <th>4</th>\n",
       "      <td>1478</td>\n",
       "      <td>0</td>\n",
       "    </tr>\n",
       "    <tr>\n",
       "      <th>...</th>\n",
       "      <td>...</td>\n",
       "      <td>...</td>\n",
       "    </tr>\n",
       "    <tr>\n",
       "      <th>42828</th>\n",
       "      <td>67615</td>\n",
       "      <td>0</td>\n",
       "    </tr>\n",
       "    <tr>\n",
       "      <th>42829</th>\n",
       "      <td>67938</td>\n",
       "      <td>0</td>\n",
       "    </tr>\n",
       "    <tr>\n",
       "      <th>42830</th>\n",
       "      <td>67942</td>\n",
       "      <td>0</td>\n",
       "    </tr>\n",
       "    <tr>\n",
       "      <th>42831</th>\n",
       "      <td>67949</td>\n",
       "      <td>0</td>\n",
       "    </tr>\n",
       "    <tr>\n",
       "      <th>42832</th>\n",
       "      <td>68898</td>\n",
       "      <td>0</td>\n",
       "    </tr>\n",
       "  </tbody>\n",
       "</table>\n",
       "<p>42833 rows × 2 columns</p>\n",
       "</div>"
      ],
      "text/plain": [
       "         LNR  RESPONSE\n",
       "0       1754         0\n",
       "1       1770         0\n",
       "2       1465         0\n",
       "3       1470         0\n",
       "4       1478         0\n",
       "...      ...       ...\n",
       "42828  67615         0\n",
       "42829  67938         0\n",
       "42830  67942         0\n",
       "42831  67949         0\n",
       "42832  68898         0\n",
       "\n",
       "[42833 rows x 2 columns]"
      ]
     },
     "execution_count": 194,
     "metadata": {},
     "output_type": "execute_result"
    }
   ],
   "source": [
    "test_identifier"
   ]
  },
  {
   "cell_type": "markdown",
   "metadata": {},
   "source": [
    "#### Create Submision"
   ]
  },
  {
   "cell_type": "code",
   "execution_count": 195,
   "metadata": {},
   "outputs": [],
   "source": [
    "test_identifier.to_csv('results/submision_10282021_2.csv', index=False)"
   ]
  }
 ],
 "metadata": {
  "kernelspec": {
   "display_name": "ml",
   "language": "python",
   "name": "ml"
  },
  "language_info": {
   "codemirror_mode": {
    "name": "ipython",
    "version": 3
   },
   "file_extension": ".py",
   "mimetype": "text/x-python",
   "name": "python",
   "nbconvert_exporter": "python",
   "pygments_lexer": "ipython3",
   "version": "3.9.7"
  }
 },
 "nbformat": 4,
 "nbformat_minor": 4
}
