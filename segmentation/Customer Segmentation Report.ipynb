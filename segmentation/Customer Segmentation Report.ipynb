{
 "cells": [
  {
   "cell_type": "markdown",
   "metadata": {},
   "source": [
    "# Capstone Project: Create a Customer Segmentation Report for Arvato Financial Services\n",
    "\n",
    "In this project, you will analyze demographics data for customers of a mail-order sales company in Germany, comparing it against demographics information for the general population. You'll use unsupervised learning techniques to perform customer segmentation, identifying the parts of the population that best describe the core customer base of the company. Then, you'll apply what you've learned on a third dataset with demographics information for targets of a marketing campaign for the company, and use a model to predict which individuals are most likely to convert into becoming customers for the company. The data that you will use has been provided by our partners at Bertelsmann Arvato Analytics, and represents a real-life data science task.\n",
    "\n",
    "If you completed the first term of this program, you will be familiar with the first part of this project, from the unsupervised learning project. The versions of those two datasets used in this project will include many more features and has not been pre-cleaned. You are also free to choose whatever approach you'd like to analyzing the data rather than follow pre-determined steps. In your work on this project, make sure that you carefully document your steps and decisions, since your main deliverable for this project will be a blog post reporting your findings."
   ]
  },
  {
   "cell_type": "code",
   "execution_count": 1,
   "metadata": {},
   "outputs": [],
   "source": [
    "# import libraries here; add more as necessary\n",
    "import sys\n",
    "import pandas as pd\n",
    "import numpy as np\n",
    "import matplotlib.pyplot as plt\n",
    "from datetime import datetime\n",
    "import pickle\n",
    "import joblib\n",
    "import time\n",
    "from utils import *\n",
    "\n",
    "from sklearn.preprocessing import LabelEncoder, MinMaxScaler, OneHotEncoder, StandardScaler\n",
    "from sklearn.compose import ColumnTransformer\n",
    "from sklearn.pipeline import Pipeline\n",
    "from sklearn.impute import SimpleImputer\n",
    "\n",
    "from sklearn.decomposition import PCA\n",
    "from sklearn.cluster import KMeans"
   ]
  },
  {
   "cell_type": "markdown",
   "metadata": {},
   "source": [
    "## Part 1: Customer Segmentation Report\n",
    "\n",
    "The main bulk of your analysis will come in this part of the project. Here, you should use unsupervised learning techniques to describe the relationship between the demographics of the company's existing customers and the general population of Germany. By the end of this part, you should be able to describe parts of the general population that are more likely to be part of the mail-order company's main customer base, and which parts of the general population are less so."
   ]
  },
  {
   "cell_type": "code",
   "execution_count": 2,
   "metadata": {},
   "outputs": [],
   "source": [
    "# import saved cleaned data\n",
    "database_filepath = '../data/merged_data_clean.pkl'\n",
    "df_clean = pickle.load(open(database_filepath, \"rb\"))"
   ]
  },
  {
   "cell_type": "code",
   "execution_count": 3,
   "metadata": {},
   "outputs": [
    {
     "data": {
      "text/html": [
       "<div>\n",
       "<style scoped>\n",
       "    .dataframe tbody tr th:only-of-type {\n",
       "        vertical-align: middle;\n",
       "    }\n",
       "\n",
       "    .dataframe tbody tr th {\n",
       "        vertical-align: top;\n",
       "    }\n",
       "\n",
       "    .dataframe thead th {\n",
       "        text-align: right;\n",
       "    }\n",
       "</style>\n",
       "<table border=\"1\" class=\"dataframe\">\n",
       "  <thead>\n",
       "    <tr style=\"text-align: right;\">\n",
       "      <th></th>\n",
       "      <th>DSL_FLAG</th>\n",
       "      <th>GREEN_AVANTGARDE</th>\n",
       "      <th>HH_DELTA_FLAG</th>\n",
       "      <th>KBA05_SEG6</th>\n",
       "      <th>KONSUMZELLE</th>\n",
       "      <th>SOHO_KZ</th>\n",
       "      <th>UNGLEICHENN_FLAG</th>\n",
       "      <th>VERS_TYP</th>\n",
       "      <th>ANREDE_KZ</th>\n",
       "      <th>OST_WEST_KZ</th>\n",
       "      <th>...</th>\n",
       "      <th>KBA05_MAXVORB</th>\n",
       "      <th>D19_KINDERARTIKEL</th>\n",
       "      <th>KBA05_KW2</th>\n",
       "      <th>KBA05_ZUL1</th>\n",
       "      <th>KBA05_ANTG2</th>\n",
       "      <th>KBA05_ANTG4</th>\n",
       "      <th>CJT_GESAMTTYP</th>\n",
       "      <th>SEMIO_FAM</th>\n",
       "      <th>VERDICHTUNGSRAUM</th>\n",
       "      <th>TYPE</th>\n",
       "    </tr>\n",
       "  </thead>\n",
       "  <tbody>\n",
       "    <tr>\n",
       "      <th>2</th>\n",
       "      <td>1.0</td>\n",
       "      <td>1</td>\n",
       "      <td>0.0</td>\n",
       "      <td>0.0</td>\n",
       "      <td>0.0</td>\n",
       "      <td>0.0</td>\n",
       "      <td>0.0</td>\n",
       "      <td>1.0</td>\n",
       "      <td>2.0</td>\n",
       "      <td>W</td>\n",
       "      <td>...</td>\n",
       "      <td>1.0</td>\n",
       "      <td>0</td>\n",
       "      <td>2.0</td>\n",
       "      <td>2.0</td>\n",
       "      <td>3.0</td>\n",
       "      <td>0.0</td>\n",
       "      <td>3.0</td>\n",
       "      <td>1.0</td>\n",
       "      <td>1.0</td>\n",
       "      <td>general</td>\n",
       "    </tr>\n",
       "    <tr>\n",
       "      <th>3</th>\n",
       "      <td>1.0</td>\n",
       "      <td>0</td>\n",
       "      <td>NaN</td>\n",
       "      <td>0.0</td>\n",
       "      <td>0.0</td>\n",
       "      <td>0.0</td>\n",
       "      <td>0.0</td>\n",
       "      <td>1.0</td>\n",
       "      <td>2.0</td>\n",
       "      <td>W</td>\n",
       "      <td>...</td>\n",
       "      <td>2.0</td>\n",
       "      <td>0</td>\n",
       "      <td>4.0</td>\n",
       "      <td>3.0</td>\n",
       "      <td>1.0</td>\n",
       "      <td>0.0</td>\n",
       "      <td>2.0</td>\n",
       "      <td>1.0</td>\n",
       "      <td>0.0</td>\n",
       "      <td>general</td>\n",
       "    </tr>\n",
       "    <tr>\n",
       "      <th>4</th>\n",
       "      <td>1.0</td>\n",
       "      <td>0</td>\n",
       "      <td>0.0</td>\n",
       "      <td>0.0</td>\n",
       "      <td>0.0</td>\n",
       "      <td>0.0</td>\n",
       "      <td>0.0</td>\n",
       "      <td>2.0</td>\n",
       "      <td>1.0</td>\n",
       "      <td>W</td>\n",
       "      <td>...</td>\n",
       "      <td>1.0</td>\n",
       "      <td>0</td>\n",
       "      <td>2.0</td>\n",
       "      <td>3.0</td>\n",
       "      <td>4.0</td>\n",
       "      <td>0.0</td>\n",
       "      <td>5.0</td>\n",
       "      <td>4.0</td>\n",
       "      <td>1.0</td>\n",
       "      <td>general</td>\n",
       "    </tr>\n",
       "    <tr>\n",
       "      <th>5</th>\n",
       "      <td>1.0</td>\n",
       "      <td>0</td>\n",
       "      <td>0.0</td>\n",
       "      <td>0.0</td>\n",
       "      <td>0.0</td>\n",
       "      <td>0.0</td>\n",
       "      <td>0.0</td>\n",
       "      <td>2.0</td>\n",
       "      <td>2.0</td>\n",
       "      <td>W</td>\n",
       "      <td>...</td>\n",
       "      <td>1.0</td>\n",
       "      <td>0</td>\n",
       "      <td>5.0</td>\n",
       "      <td>3.0</td>\n",
       "      <td>2.0</td>\n",
       "      <td>0.0</td>\n",
       "      <td>2.0</td>\n",
       "      <td>4.0</td>\n",
       "      <td>0.0</td>\n",
       "      <td>general</td>\n",
       "    </tr>\n",
       "    <tr>\n",
       "      <th>6</th>\n",
       "      <td>1.0</td>\n",
       "      <td>0</td>\n",
       "      <td>0.0</td>\n",
       "      <td>0.0</td>\n",
       "      <td>0.0</td>\n",
       "      <td>0.0</td>\n",
       "      <td>0.0</td>\n",
       "      <td>1.0</td>\n",
       "      <td>2.0</td>\n",
       "      <td>W</td>\n",
       "      <td>...</td>\n",
       "      <td>3.0</td>\n",
       "      <td>0</td>\n",
       "      <td>3.0</td>\n",
       "      <td>3.0</td>\n",
       "      <td>2.0</td>\n",
       "      <td>0.0</td>\n",
       "      <td>5.0</td>\n",
       "      <td>5.0</td>\n",
       "      <td>35.0</td>\n",
       "      <td>general</td>\n",
       "    </tr>\n",
       "  </tbody>\n",
       "</table>\n",
       "<p>5 rows × 320 columns</p>\n",
       "</div>"
      ],
      "text/plain": [
       "   DSL_FLAG  GREEN_AVANTGARDE  HH_DELTA_FLAG  KBA05_SEG6  KONSUMZELLE  \\\n",
       "2       1.0                 1            0.0         0.0          0.0   \n",
       "3       1.0                 0            NaN         0.0          0.0   \n",
       "4       1.0                 0            0.0         0.0          0.0   \n",
       "5       1.0                 0            0.0         0.0          0.0   \n",
       "6       1.0                 0            0.0         0.0          0.0   \n",
       "\n",
       "   SOHO_KZ  UNGLEICHENN_FLAG  VERS_TYP  ANREDE_KZ OST_WEST_KZ  ...  \\\n",
       "2      0.0               0.0       1.0        2.0           W  ...   \n",
       "3      0.0               0.0       1.0        2.0           W  ...   \n",
       "4      0.0               0.0       2.0        1.0           W  ...   \n",
       "5      0.0               0.0       2.0        2.0           W  ...   \n",
       "6      0.0               0.0       1.0        2.0           W  ...   \n",
       "\n",
       "   KBA05_MAXVORB  D19_KINDERARTIKEL  KBA05_KW2  KBA05_ZUL1  KBA05_ANTG2  \\\n",
       "2            1.0                  0        2.0         2.0          3.0   \n",
       "3            2.0                  0        4.0         3.0          1.0   \n",
       "4            1.0                  0        2.0         3.0          4.0   \n",
       "5            1.0                  0        5.0         3.0          2.0   \n",
       "6            3.0                  0        3.0         3.0          2.0   \n",
       "\n",
       "   KBA05_ANTG4  CJT_GESAMTTYP  SEMIO_FAM  VERDICHTUNGSRAUM     TYPE  \n",
       "2          0.0            3.0        1.0               1.0  general  \n",
       "3          0.0            2.0        1.0               0.0  general  \n",
       "4          0.0            5.0        4.0               1.0  general  \n",
       "5          0.0            2.0        4.0               0.0  general  \n",
       "6          0.0            5.0        5.0              35.0  general  \n",
       "\n",
       "[5 rows x 320 columns]"
      ]
     },
     "execution_count": 3,
     "metadata": {},
     "output_type": "execute_result"
    }
   ],
   "source": [
    "df_clean.head()"
   ]
  },
  {
   "cell_type": "code",
   "execution_count": 4,
   "metadata": {},
   "outputs": [
    {
     "name": "stderr",
     "output_type": "stream",
     "text": [
      "C:\\Users\\ADMIN\\anaconda3\\envs\\ml\\lib\\site-packages\\pandas\\core\\frame.py:4906: SettingWithCopyWarning: \n",
      "A value is trying to be set on a copy of a slice from a DataFrame\n",
      "\n",
      "See the caveats in the documentation: https://pandas.pydata.org/pandas-docs/stable/user_guide/indexing.html#returning-a-view-versus-a-copy\n",
      "  return super().drop(\n"
     ]
    }
   ],
   "source": [
    "general_clean = df_clean.loc[df_clean['TYPE']=='general']\n",
    "general_clean.drop(columns=['TYPE'], inplace=True)"
   ]
  },
  {
   "cell_type": "code",
   "execution_count": 5,
   "metadata": {},
   "outputs": [],
   "source": [
    "customer_clean = df_clean.loc[df_clean['TYPE']=='customer']\n",
    "customer_clean.drop(columns=['TYPE'], inplace=True)"
   ]
  },
  {
   "cell_type": "markdown",
   "metadata": {},
   "source": [
    "### PCA"
   ]
  },
  {
   "cell_type": "code",
   "execution_count": 6,
   "metadata": {},
   "outputs": [],
   "source": [
    "df_feats = general_clean\n",
    "# df_type = df_clean[['TYPE']]\n",
    "del general_clean\n",
    "del df_clean"
   ]
  },
  {
   "cell_type": "code",
   "execution_count": 7,
   "metadata": {},
   "outputs": [],
   "source": [
    "def create_column_transformer(binary_cols, categorical_cols, numerical_cols):\n",
    "    '''This function deals designated columns and imputes missing data.\n",
    "    Args:\n",
    "    df: demographic dataframe\n",
    "    returns: none\n",
    "    '''\n",
    "\n",
    "    # Transform-impute Pipeline\n",
    "    # Categorical\n",
    "    categorical_pipeline = Pipeline([\n",
    "        ('bin_impute', SimpleImputer(missing_values=np.nan, strategy='most_frequent')),\n",
    "        ('onehot', OneHotEncoder(handle_unknown='ignore'))\n",
    "    ])\n",
    "\n",
    "    # Binary\n",
    "    binary_pipeline = Pipeline([('bin_impute', SimpleImputer(missing_values=np.nan, strategy='most_frequent'))])\n",
    "\n",
    "    # Numerical\n",
    "    numerical_pipeline = Pipeline([\n",
    "        ('num_impute', SimpleImputer(missing_values=np.nan, strategy='median')),\n",
    "        ('num_scale', StandardScaler())\n",
    "    ])\n",
    "\n",
    "    # Combined pipeline\n",
    "    transformers = [('binary', binary_pipeline, binary_cols),\n",
    "                    ('categorical', categorical_pipeline, categorical_cols),\n",
    "                    ('numerical', numerical_pipeline, numerical_cols)]\n",
    "    column_transformer = ColumnTransformer(transformers=transformers)\n",
    "\n",
    "    return column_transformer"
   ]
  },
  {
   "cell_type": "code",
   "execution_count": 8,
   "metadata": {},
   "outputs": [],
   "source": [
    "# create column transformer\n",
    "column_transformer = create_column_transformer(binary_cols, categorical_cols, numerical_cols)"
   ]
  },
  {
   "cell_type": "code",
   "execution_count": 9,
   "metadata": {},
   "outputs": [],
   "source": [
    "# Impute, transform, and standardize features\n",
    "df_trans = column_transformer.fit_transform(df_feats)"
   ]
  },
  {
   "cell_type": "code",
   "execution_count": 10,
   "metadata": {},
   "outputs": [],
   "source": [
    "# Fit PCA object\n",
    "pca = PCA().fit(df_trans)"
   ]
  },
  {
   "cell_type": "code",
   "execution_count": 11,
   "metadata": {},
   "outputs": [],
   "source": [
    "# Investigate the variance accounted for by each principal component.\n",
    "def pca_scree_plot(pca):\n",
    "    \"\"\"\n",
    "    Plots PCA scree plot.\n",
    "    \n",
    "    Input: pca - fitted PCA object\n",
    "    Output: scree plot\n",
    "    \"\"\"\n",
    "    \n",
    "    num_components = len(pca.explained_variance_ratio_)\n",
    "    ind = np.arange(num_components)\n",
    "    vals = pca.explained_variance_ratio_\n",
    "    cumvals = np.cumsum(vals)\n",
    "\n",
    "    fig = plt.figure(figsize=(16,6))\n",
    "    ax = plt.subplot()\n",
    "    ax.bar(ind, vals)\n",
    "    ax.plot(ind, cumvals)\n",
    "\n",
    "    plt.xlabel('Number of components')\n",
    "    plt.ylabel('Cumulative explained variance')\n",
    "    plt.title('Cumulative explained variance ratio plot')\n",
    "    \n",
    "    return fig"
   ]
  },
  {
   "cell_type": "code",
   "execution_count": 12,
   "metadata": {},
   "outputs": [
    {
     "data": {
      "image/png": "[encoded data removed]",
      "text/plain": [
       "<Figure size 432x288 with 1 Axes>"
      ]
     },
     "metadata": {
      "needs_background": "light"
     },
     "output_type": "display_data"
    }
   ],
   "source": [
    "# Investigate the variance accounted for by each principal component.\n",
    "num_components=len(pca.explained_variance_ratio_)\n",
    "ind = np.arange(num_components)\n",
    "vals = pca.explained_variance_ratio_\n",
    "plt.bar(ind, vals)\n",
    "plt.xlabel('Component')\n",
    "plt.ylabel('Total explained variance')\n",
    "plt.title('Total Explained Variance by Individual Components')\n",
    "plt.savefig('pca_plot.png', dpi=500)\n",
    "plt.show()"
   ]
  },
  {
   "cell_type": "code",
   "execution_count": 13,
   "metadata": {},
   "outputs": [
    {
     "data": {
      "image/png": "[encoded data removed]",
      "text/plain": [
       "<Figure size 432x288 with 1 Axes>"
      ]
     },
     "metadata": {
      "needs_background": "light"
     },
     "output_type": "display_data"
    }
   ],
   "source": [
    "cumvals = np.cumsum(vals)\n",
    "plt.plot(cumvals)\n",
    "plt.xlabel('Number of Components')\n",
    "plt.ylabel('Cumulative explained variance')\n",
    "plt.title('Cumulative explained variance ratio plot')\n",
    "plt.savefig('pca_cummulative_plot.png', dpi=500)\n",
    "plt.show()"
   ]
  },
  {
   "cell_type": "code",
   "execution_count": 14,
   "metadata": {},
   "outputs": [
    {
     "name": "stdout",
     "output_type": "stream",
     "text": [
      "164 components explain 90.0% of variance in the dataset.\n"
     ]
    }
   ],
   "source": [
    "threshold = .90\n",
    "num_components = np.argmax(cumvals > threshold)\n",
    "\n",
    "print('{} components explain {}% of variance in the dataset.'.format(num_components, round(cumvals[num_components],2)*100))"
   ]
  },
  {
   "cell_type": "markdown",
   "metadata": {},
   "source": [
    "From 319 components, 164 components explain 90% of variance in the dataset. The dataset can be reduced to almost half of its feature range while only losing 10% of variance."
   ]
  },
  {
   "cell_type": "code",
   "execution_count": 15,
   "metadata": {},
   "outputs": [],
   "source": [
    "# Re-apply PCA to the data while selecting for number of components to retain.\n",
    "pca = PCA(num_components)\n",
    "df_pca = pca.fit(df_trans)\n",
    "df_reduced = pd.DataFrame(df_pca.transform(df_trans))"
   ]
  },
  {
   "cell_type": "code",
   "execution_count": 16,
   "metadata": {},
   "outputs": [],
   "source": [
    "top_three_pca = pca.explained_variance_ratio_[:3]"
   ]
  },
  {
   "cell_type": "code",
   "execution_count": 17,
   "metadata": {},
   "outputs": [
    {
     "name": "stdout",
     "output_type": "stream",
     "text": [
      "The first three components explain 18.1% of variance.\n"
     ]
    }
   ],
   "source": [
    "print(\"The first three components explain {:.1%} of variance.\".format(top_three_pca.sum()))"
   ]
  },
  {
   "cell_type": "code",
   "execution_count": 18,
   "metadata": {},
   "outputs": [],
   "source": [
    "def map_component_to_features(pca, component, column_names):\n",
    "    \"\"\"\n",
    "    Returns weights of features for a selected component.\n",
    "    \n",
    "    Input:\n",
    "    pca - fitted PCA object\n",
    "    component - PCA component of interest\n",
    "    column_names - list of original feature names\n",
    "    \n",
    "    Output:\n",
    "    df_features - sorted DataFrame with feature weigths\n",
    "    \"\"\"\n",
    "    \n",
    "    weights_array = pca.components_[component]\n",
    "    df_trans = pd.DataFrame(weights_array, index = column_names, columns=['weight'])\n",
    "    return df_trans.sort_values(by='weight', ascending=False).round(2)"
   ]
  },
  {
   "cell_type": "code",
   "execution_count": 37,
   "metadata": {},
   "outputs": [
    {
     "data": {
      "text/plain": [
       "320"
      ]
     },
     "execution_count": 37,
     "metadata": {},
     "output_type": "execute_result"
    }
   ],
   "source": [
    "# get columns names of the features after transformation\n",
    "categorical_cols_onehot = list(column_transformer.transformers_[1][1].named_steps['onehot'].get_feature_names_out(categorical_cols))\n",
    "df_trans_cols = binary_cols + categorical_cols_onehot + numerical_cols \n",
    "len(df_trans_cols)"
   ]
  },
  {
   "cell_type": "code",
   "execution_count": 38,
   "metadata": {},
   "outputs": [
    {
     "name": "stdout",
     "output_type": "stream",
     "text": [
      "Component 1 explains 7.9% of variance and is determined by: \n"
     ]
    },
    {
     "data": {
      "text/html": [
       "<div>\n",
       "<style scoped>\n",
       "    .dataframe tbody tr th:only-of-type {\n",
       "        vertical-align: middle;\n",
       "    }\n",
       "\n",
       "    .dataframe tbody tr th {\n",
       "        vertical-align: top;\n",
       "    }\n",
       "\n",
       "    .dataframe thead th {\n",
       "        text-align: right;\n",
       "    }\n",
       "</style>\n",
       "<table border=\"1\" class=\"dataframe\">\n",
       "  <thead>\n",
       "    <tr style=\"text-align: right;\">\n",
       "      <th></th>\n",
       "      <th>weight</th>\n",
       "    </tr>\n",
       "  </thead>\n",
       "  <tbody>\n",
       "    <tr>\n",
       "      <th>MOBI_REGIO</th>\n",
       "      <td>0.15</td>\n",
       "    </tr>\n",
       "    <tr>\n",
       "      <th>KBA13_ANTG1</th>\n",
       "      <td>0.14</td>\n",
       "    </tr>\n",
       "    <tr>\n",
       "      <th>LP_STATUS_FEIN</th>\n",
       "      <td>0.14</td>\n",
       "    </tr>\n",
       "    <tr>\n",
       "      <th>MOBI_RASTER</th>\n",
       "      <td>0.14</td>\n",
       "    </tr>\n",
       "    <tr>\n",
       "      <th>KBA05_ANTG1</th>\n",
       "      <td>0.14</td>\n",
       "    </tr>\n",
       "  </tbody>\n",
       "</table>\n",
       "</div>"
      ],
      "text/plain": [
       "                weight\n",
       "MOBI_REGIO        0.15\n",
       "KBA13_ANTG1       0.14\n",
       "LP_STATUS_FEIN    0.14\n",
       "MOBI_RASTER       0.14\n",
       "KBA05_ANTG1       0.14"
      ]
     },
     "execution_count": 38,
     "metadata": {},
     "output_type": "execute_result"
    }
   ],
   "source": [
    "print(\"Component 1 explains {:.1%} of variance and is determined by: \".format(top_three_pca[0]))\n",
    "map_component_to_features(pca, 0, df_trans_cols).head()"
   ]
  },
  {
   "cell_type": "markdown",
   "metadata": {},
   "source": [
    "Component 1 explains 8.1% total variance, determined by the mobility and social status of the person."
   ]
  },
  {
   "cell_type": "code",
   "execution_count": 41,
   "metadata": {},
   "outputs": [
    {
     "name": "stdout",
     "output_type": "stream",
     "text": [
      "Component 2 explains 5.4% of variance and is determined by: \n"
     ]
    },
    {
     "data": {
      "text/html": [
       "<div>\n",
       "<style scoped>\n",
       "    .dataframe tbody tr th:only-of-type {\n",
       "        vertical-align: middle;\n",
       "    }\n",
       "\n",
       "    .dataframe tbody tr th {\n",
       "        vertical-align: top;\n",
       "    }\n",
       "\n",
       "    .dataframe thead th {\n",
       "        text-align: right;\n",
       "    }\n",
       "</style>\n",
       "<table border=\"1\" class=\"dataframe\">\n",
       "  <thead>\n",
       "    <tr style=\"text-align: right;\">\n",
       "      <th></th>\n",
       "      <th>weight</th>\n",
       "    </tr>\n",
       "  </thead>\n",
       "  <tbody>\n",
       "    <tr>\n",
       "      <th>KBA13_HERST_BMW_BENZ</th>\n",
       "      <td>0.19</td>\n",
       "    </tr>\n",
       "    <tr>\n",
       "      <th>KBA13_MERCEDES</th>\n",
       "      <td>0.16</td>\n",
       "    </tr>\n",
       "    <tr>\n",
       "      <th>KBA13_SEG_OBEREMITTELKLASSE</th>\n",
       "      <td>0.16</td>\n",
       "    </tr>\n",
       "    <tr>\n",
       "      <th>KBA13_BMW</th>\n",
       "      <td>0.16</td>\n",
       "    </tr>\n",
       "    <tr>\n",
       "      <th>KBA13_SITZE_4</th>\n",
       "      <td>0.15</td>\n",
       "    </tr>\n",
       "  </tbody>\n",
       "</table>\n",
       "</div>"
      ],
      "text/plain": [
       "                             weight\n",
       "KBA13_HERST_BMW_BENZ           0.19\n",
       "KBA13_MERCEDES                 0.16\n",
       "KBA13_SEG_OBEREMITTELKLASSE    0.16\n",
       "KBA13_BMW                      0.16\n",
       "KBA13_SITZE_4                  0.15"
      ]
     },
     "execution_count": 41,
     "metadata": {},
     "output_type": "execute_result"
    }
   ],
   "source": [
    "print(\"Component 2 explains {:.1%} of variance and is determined by: \".format(top_three_pca[1]))\n",
    "map_component_to_features(pca, 1, df_trans_cols).head()"
   ]
  },
  {
   "cell_type": "markdown",
   "metadata": {},
   "source": [
    "Component 2 explains 5.5% total variance, determined by the car a person owns (KBA13_HERST_BMW_BENZ and KBA13_MERCEDES)."
   ]
  },
  {
   "cell_type": "code",
   "execution_count": 42,
   "metadata": {},
   "outputs": [
    {
     "name": "stdout",
     "output_type": "stream",
     "text": [
      "Component 3 explains 4.8% of variance and is determined by: \n"
     ]
    },
    {
     "data": {
      "text/html": [
       "<div>\n",
       "<style scoped>\n",
       "    .dataframe tbody tr th:only-of-type {\n",
       "        vertical-align: middle;\n",
       "    }\n",
       "\n",
       "    .dataframe tbody tr th {\n",
       "        vertical-align: top;\n",
       "    }\n",
       "\n",
       "    .dataframe thead th {\n",
       "        text-align: right;\n",
       "    }\n",
       "</style>\n",
       "<table border=\"1\" class=\"dataframe\">\n",
       "  <thead>\n",
       "    <tr style=\"text-align: right;\">\n",
       "      <th></th>\n",
       "      <th>weight</th>\n",
       "    </tr>\n",
       "  </thead>\n",
       "  <tbody>\n",
       "    <tr>\n",
       "      <th>CJT_TYP_1</th>\n",
       "      <td>0.19</td>\n",
       "    </tr>\n",
       "    <tr>\n",
       "      <th>FINANZ_SPARER</th>\n",
       "      <td>0.18</td>\n",
       "    </tr>\n",
       "    <tr>\n",
       "      <th>ONLINE_AFFINITAET</th>\n",
       "      <td>0.17</td>\n",
       "    </tr>\n",
       "    <tr>\n",
       "      <th>FINANZ_UNAUFFAELLIGER</th>\n",
       "      <td>0.15</td>\n",
       "    </tr>\n",
       "    <tr>\n",
       "      <th>ALTERSKATEGORIE_FEIN</th>\n",
       "      <td>0.15</td>\n",
       "    </tr>\n",
       "  </tbody>\n",
       "</table>\n",
       "</div>"
      ],
      "text/plain": [
       "                       weight\n",
       "CJT_TYP_1                0.19\n",
       "FINANZ_SPARER            0.18\n",
       "ONLINE_AFFINITAET        0.17\n",
       "FINANZ_UNAUFFAELLIGER    0.15\n",
       "ALTERSKATEGORIE_FEIN     0.15"
      ]
     },
     "execution_count": 42,
     "metadata": {},
     "output_type": "execute_result"
    }
   ],
   "source": [
    "print(\"Component 3 explains {:.1%} of variance and is determined by: \".format(top_three_pca[2]))\n",
    "map_component_to_features(pca, 2, df_trans_cols).head()"
   ]
  },
  {
   "cell_type": "markdown",
   "metadata": {},
   "source": [
    "Component 3 explains 4.6% total variance, determined by dominating movement in the person's youth (CJT_TYP_1), the person's financial behaviour (FINANZ_SPARER), and , online affinity (ONLINE_AFFINITAET)."
   ]
  },
  {
   "cell_type": "markdown",
   "metadata": {},
   "source": [
    "### K-Mean Clustering"
   ]
  },
  {
   "cell_type": "code",
   "execution_count": 44,
   "metadata": {},
   "outputs": [],
   "source": [
    "N = df_reduced.shape[0]\n",
    "mean_d = []\n",
    "centers = range(1, 31)\n",
    "for k in centers:\n",
    "#     print(k)\n",
    "    # run k-means clustering on the data and...\n",
    "    kmeans = KMeans(n_clusters=k)\n",
    "    model = kmeans.fit(df_reduced.sample(200000))\n",
    "    \n",
    "    # compute the average within-cluster distances.\n",
    "    mean_d.append(abs(model.score(df_reduced))/N)"
   ]
  },
  {
   "cell_type": "code",
   "execution_count": 45,
   "metadata": {},
   "outputs": [
    {
     "data": {
      "image/png": "[encoded data removed]",
      "text/plain": [
       "<Figure size 1152x432 with 1 Axes>"
      ]
     },
     "metadata": {
      "needs_background": "light"
     },
     "output_type": "display_data"
    }
   ],
   "source": [
    "# Plot sse against k\n",
    "plt.figure(figsize=(16, 6))\n",
    "plt.plot(centers, mean_d, '-o')\n",
    "plt.title('k-means Clustering Elbow Plot')\n",
    "plt.xlabel(\"Number of clusters k\")\n",
    "plt.ylabel(\"Sum of squared distance\")\n",
    "plt.xticks(list(range(1,31)))\n",
    "plt.show\n",
    "plt.savefig('elbow_plot.png', dpi=500);"
   ]
  },
  {
   "cell_type": "markdown",
   "metadata": {},
   "source": [
    "There is no clear elbow in the plot. The inertia or sum of squared distances drops significantly until around 9 clusters and then basically flattens out, so 10 clusters are chosen as final number."
   ]
  },
  {
   "cell_type": "markdown",
   "metadata": {},
   "source": [
    "### Combine PCA and K-Mean into Pipeline"
   ]
  },
  {
   "cell_type": "code",
   "execution_count": 43,
   "metadata": {},
   "outputs": [],
   "source": [
    "# Set PCA and KMeans parameters\n",
    "pca_components = 164\n",
    "kmeans_clusters = 10"
   ]
  },
  {
   "cell_type": "code",
   "execution_count": 44,
   "metadata": {},
   "outputs": [],
   "source": [
    "def create_column_transformer(binary_cols, categorical_cols, numerical_cols):\n",
    "    '''This function deals designated columns and imputes missing data.\n",
    "    Args:\n",
    "    df: demographic dataframe\n",
    "    returns: none\n",
    "    '''\n",
    "\n",
    "    # Transform-impute Pipeline\n",
    "    # Categorical\n",
    "    categorical_pipeline = Pipeline([\n",
    "        ('bin_impute', SimpleImputer(missing_values=np.nan, strategy='most_frequent')),\n",
    "        ('onehot', OneHotEncoder(handle_unknown='ignore'))\n",
    "    ])\n",
    "\n",
    "    # Binary\n",
    "    binary_pipeline = Pipeline([('bin_impute', SimpleImputer(missing_values=np.nan, strategy='most_frequent'))])\n",
    "\n",
    "    # Numerical\n",
    "    numerical_pipeline = Pipeline([\n",
    "        ('num_impute', SimpleImputer(missing_values=np.nan, strategy='median')),\n",
    "        ('num_scale', StandardScaler())\n",
    "    ])\n",
    "\n",
    "    # Combined pipeline\n",
    "    transformers = [('binary', binary_pipeline, binary_cols),\n",
    "                    ('categorical', categorical_pipeline, categorical_cols),\n",
    "                    ('numerical', numerical_pipeline, numerical_cols)]\n",
    "    column_transformer = ColumnTransformer(transformers=transformers)\n",
    "\n",
    "    return column_transformer\n",
    "\n",
    "\n",
    "def build_cluster_pipeline(column_transformer, pca_components, kmeans_clusters):\n",
    "\n",
    "    # Create cluster pipeline\n",
    "    cluster_pipeline = Pipeline([\n",
    "        ('transform', column_transformer),\n",
    "        ('reduce', PCA(n_components=pca_components)),\n",
    "        ('cluster', KMeans(n_clusters=kmeans_clusters, init='k-means++'))\n",
    "    ])\n",
    "\n",
    "    return cluster_pipeline"
   ]
  },
  {
   "cell_type": "code",
   "execution_count": 45,
   "metadata": {},
   "outputs": [],
   "source": [
    "# build pipeline\n",
    "column_transformer = create_column_transformer(binary_cols, categorical_cols, numerical_cols)\n",
    "cluster_pipeline = build_cluster_pipeline(column_transformer, pca_components=pca_components, kmeans_clusters=kmeans_clusters)"
   ]
  },
  {
   "cell_type": "code",
   "execution_count": 46,
   "metadata": {},
   "outputs": [],
   "source": [
    "# Fit cluster pipeline and create clustered general population dataframe\n",
    "cluster_pipeline.fit(df_feats)\n",
    "general_clustered = pd.DataFrame(cluster_pipeline.predict(df_feats), columns = ['Cluster'])"
   ]
  },
  {
   "cell_type": "code",
   "execution_count": 51,
   "metadata": {},
   "outputs": [
    {
     "name": "stdout",
     "output_type": "stream",
     "text": [
      "Saving model...\n"
     ]
    }
   ],
   "source": [
    "print('Saving model...')\n",
    "f = open('../results/clust_model' + str(num_components) + '.pkl', 'wb')\n",
    "pickle.dump(cluster_pipeline, f)"
   ]
  },
  {
   "cell_type": "markdown",
   "metadata": {},
   "source": [
    "### Cluster Analysis"
   ]
  },
  {
   "cell_type": "code",
   "execution_count": 53,
   "metadata": {},
   "outputs": [],
   "source": [
    "# Create clustered customers dataframe\n",
    "customers_clustered = pd.DataFrame(cluster_pipeline.predict(customer_clean), columns = ['Cluster'])"
   ]
  },
  {
   "cell_type": "code",
   "execution_count": 54,
   "metadata": {},
   "outputs": [],
   "source": [
    "# Get cluster sizes in each dataset\n",
    "general_clusters = general_clustered['Cluster'].value_counts().sort_index()\n",
    "customer_clusters = customers_clustered['Cluster'].value_counts().sort_index()"
   ]
  },
  {
   "cell_type": "code",
   "execution_count": 62,
   "metadata": {},
   "outputs": [],
   "source": [
    "# Concat both dataframes to one\n",
    "clusters = pd.concat([general_clusters, customer_clusters], axis=1).reset_index()\n",
    "clusters.columns = ['cluster', 'general_count', 'customers_count']\n",
    "clusters['cluster']+=1"
   ]
  },
  {
   "cell_type": "code",
   "execution_count": 63,
   "metadata": {},
   "outputs": [],
   "source": [
    "# Calculate share of each cluster\n",
    "clusters['general_share'] = clusters['general_count']/clusters['general_count'].sum()*100\n",
    "clusters['customers_share'] = clusters['customers_count']/clusters['customers_count'].sum()*100\n",
    "clusters['diff_share'] = clusters['customers_share'] - clusters['general_share']"
   ]
  },
  {
   "cell_type": "code",
   "execution_count": 64,
   "metadata": {},
   "outputs": [
    {
     "data": {
      "image/png": "[encoded data removed]",
      "text/plain": [
       "<Figure size 1152x432 with 1 Axes>"
      ]
     },
     "metadata": {
      "needs_background": "light"
     },
     "output_type": "display_data"
    }
   ],
   "source": [
    "# Plot clusters \n",
    "fig, ax = plt.subplots(figsize=(16,6))\n",
    "\n",
    "ind = np.arange(kmeans_clusters)    # the x locations for the groups\n",
    "width = 0.35         # the width of the bars\n",
    "\n",
    "p1 = ax.bar(ind, clusters['general_share'], width, bottom=0)\n",
    "p2 = ax.bar(ind + width, clusters['customers_share'], width, bottom=0)\n",
    "\n",
    "ax.set_title('Share of clusters in General Population vs Customers dataset')\n",
    "ax.set_ylabel('Share of total (%)')\n",
    "ax.set_xlabel('Cluster')\n",
    "\n",
    "ax.set_xticks(ind + width / 2)\n",
    "ax.set_xticklabels(clusters['cluster'])\n",
    "ax.legend((p1[0], p2[0]), ('General Population', 'Customers'))\n",
    "ax.autoscale_view()\n",
    "\n",
    "plt.savefig('clusters_1.png', dpi=500);"
   ]
  },
  {
   "cell_type": "markdown",
   "metadata": {},
   "source": [
    "For customers dataset, cluster 2, 4, 5, and 6 are the biggest clusters "
   ]
  },
  {
   "cell_type": "code",
   "execution_count": 75,
   "metadata": {},
   "outputs": [
    {
     "data": {
      "text/plain": [
       "85.85248763456504"
      ]
     },
     "execution_count": 75,
     "metadata": {},
     "output_type": "execute_result"
    }
   ],
   "source": [
    "# Compute the total number of customers mapped to the majour clusters\n",
    "clusters['customers_share'][clusters.index.isin([1, 3, 4, 5])].sum()"
   ]
  },
  {
   "cell_type": "markdown",
   "metadata": {},
   "source": [
    "## Part 2: Cluster Mailout Marketing Data"
   ]
  },
  {
   "cell_type": "code",
   "execution_count": 98,
   "metadata": {},
   "outputs": [
    {
     "name": "stderr",
     "output_type": "stream",
     "text": [
      "C:\\Users\\ADMIN\\anaconda3\\envs\\ml\\lib\\site-packages\\IPython\\core\\interactiveshell.py:3441: DtypeWarning: Columns (18,19) have mixed types.Specify dtype option on import or set low_memory=False.\n",
      "  exec(code_obj, self.user_global_ns, self.user_ns)\n"
     ]
    }
   ],
   "source": [
    "mailout_raw = pd.read_csv('../data/Udacity_MAILOUT_052018_TRAIN.csv')"
   ]
  },
  {
   "cell_type": "code",
   "execution_count": 99,
   "metadata": {},
   "outputs": [],
   "source": [
    "mailout_clean = load_data_pkl('../data/mailout_train_clean.pkl')"
   ]
  },
  {
   "cell_type": "markdown",
   "metadata": {},
   "source": [
    "#### Segment"
   ]
  },
  {
   "cell_type": "code",
   "execution_count": 100,
   "metadata": {},
   "outputs": [],
   "source": [
    "# predict clusters for each records in mailout_train set\n",
    "mailout_clustered = pd.DataFrame(cluster_pipeline.predict(mailout_clean), columns = ['Cluster'])"
   ]
  },
  {
   "cell_type": "code",
   "execution_count": 101,
   "metadata": {},
   "outputs": [],
   "source": [
    "# create dataframe of mailout features, cluster, and RESPONSE value\n",
    "mailout_clustered = mailout_clean.join(mailout_clustered)\n",
    "mailout_clustered = mailout_clustered.join(mailout_raw['RESPONSE'])"
   ]
  },
  {
   "cell_type": "code",
   "execution_count": 119,
   "metadata": {},
   "outputs": [
    {
     "data": {
      "image/png": "[encoded data removed]",
      "text/plain": [
       "<Figure size 432x288 with 1 Axes>"
      ]
     },
     "metadata": {
      "needs_background": "light"
     },
     "output_type": "display_data"
    }
   ],
   "source": [
    "# plot distribution of clusters, by RESPONSE\n",
    "plot_data = mailout_clustered[['RESPONSE', 'Cluster']]\n",
    "# plot_data['RESPONSE'] = plot_data.RESPONSE.apply(lambda x: 'Customer' if x==1 else 'General Population')\n",
    "counts = plot_data.groupby('RESPONSE').Cluster.value_counts().unstack(0)\n",
    "ax = counts.plot.bar(stacked=True)\n",
    "plt.legend(loc='best', bbox_to_anchor=(1.0, 0.5))\n",
    "plt.title('Mailout Cluster distribution')\n",
    "\n",
    "plt.savefig('mailout_cluster_distribution.png', dpi=500)"
   ]
  },
  {
   "cell_type": "code",
   "execution_count": 103,
   "metadata": {},
   "outputs": [
    {
     "name": "stdout",
     "output_type": "stream",
     "text": [
      "Cluster prediction results saved!\n"
     ]
    }
   ],
   "source": [
    "# save dataframe with clusters\n",
    "mailout_clustered_filepath = '../data/mailout_train_clustered.pkl'\n",
    "joblib.dump(mailout_clustered, open(mailout_clustered_filepath, 'wb'))\n",
    "print('Cluster prediction results saved!')"
   ]
  }
 ],
 "metadata": {
  "kernelspec": {
   "display_name": "ml",
   "language": "python",
   "name": "ml"
  },
  "language_info": {
   "codemirror_mode": {
    "name": "ipython",
    "version": 3
   },
   "file_extension": ".py",
   "mimetype": "text/x-python",
   "name": "python",
   "nbconvert_exporter": "python",
   "pygments_lexer": "ipython3",
   "version": "3.9.7"
  }
 },
 "nbformat": 4,
 "nbformat_minor": 4
}
